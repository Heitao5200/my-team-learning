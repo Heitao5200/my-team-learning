{
 "cells": [
  {
   "cell_type": "markdown",
   "metadata": {
    "collapsed": true
   },
   "source": [
    "# Task03 Neo4j图数据库导入数据"
   ]
  },
  {
   "cell_type": "markdown",
   "metadata": {},
   "source": [
    "## 1 知识梳理"
   ]
  },
  {
   "cell_type": "markdown",
   "metadata": {},
   "source": [
    "### 1.1 引言\n",
    "- 图计算：$G=(V,E)$，$V=vertex$(节点)，$E=edge$(边)\n",
    "- 图数据库：是`NoSQL`（非关系型数据库）的一种，应用图形数据结构的特点（节点、属性和边）存储数据实体和相互之间的关系信息。\n",
    "- Neo4j数据库：支持ACID、集群、备份和故障转移，通过图形化的界面表示节点和关系，通过 REST 接口或者面向对象的 JAVA API进行访问。"
   ]
  },
  {
   "cell_type": "markdown",
   "metadata": {},
   "source": [
    "### 1.2 Neo4j简介\n",
    "- 数据的构成：节点、关系、属性\n",
    "- 索引：根据索引进行遍历操作，通过创建索引，控制节点或关系，主要用于查找操作和删除操作\n",
    "- 优势：查询的高性能、设计的灵活性、开发的便捷性、原生图计算引擎、开源的数据库\n",
    "\n",
    "|优势|描述|\n",
    "|:---|:---|\n",
    "| 性能 | 读/写速度快 |\n",
    "| 数据库设计灵活 | 非结构化数据存储方式 |\n",
    "| 适应需求变化 | 适合敏捷开发方法 | \n",
    "| 易用性 | 用嵌入式、服务器模式、分布式模式等方式使用数据库 |\n",
    "| 建模便捷 | 使用简单框图设计数据模型 |\n",
    "| 事务管理 | 支持ACID完整的事务管理特性 |\n",
    "| 数据增长 | 提供分布式高可用模式，支持大规模的数据增长 |\n",
    "| 安全性 | 实时备份，恢复数据方便 |\n",
    "| 表现直观 | 采用图的数据结构直观表现现实世界的应用场景 |"
   ]
  },
  {
   "cell_type": "code",
   "execution_count": null,
   "metadata": {},
   "outputs": [],
   "source": []
  }
 ],
 "metadata": {
  "kernelspec": {
   "display_name": "Python 3",
   "language": "python",
   "name": "python3"
  },
  "language_info": {
   "codemirror_mode": {
    "name": "ipython",
    "version": 3
   },
   "file_extension": ".py",
   "mimetype": "text/x-python",
   "name": "python",
   "nbconvert_exporter": "python",
   "pygments_lexer": "ipython3",
   "version": "3.7.1"
  },
  "toc": {
   "base_numbering": 1,
   "nav_menu": {},
   "number_sections": false,
   "sideBar": true,
   "skip_h1_title": false,
   "title_cell": "Table of Contents",
   "title_sidebar": "Contents",
   "toc_cell": false,
   "toc_position": {},
   "toc_section_display": true,
   "toc_window_display": false
  }
 },
 "nbformat": 4,
 "nbformat_minor": 1
}
