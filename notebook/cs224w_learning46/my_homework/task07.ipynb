{
 "cells": [
  {
   "cell_type": "markdown",
   "metadata": {
    "collapsed": true
   },
   "source": [
    "# Task07 标签传播与节点分类"
   ]
  },
  {
   "cell_type": "markdown",
   "metadata": {},
   "source": [
    "## 1 基本概念回顾"
   ]
  },
  {
   "cell_type": "markdown",
   "metadata": {},
   "source": [
    "- 图机器学习的任务：节点层面、连接层面、社交（子图）层面、全图层面\n",
    "- 半监督节点分类：通过已知节点预测出未知标签节点的类别\n",
    "- 半监督节点分类问题的求解方法：节点特征工程、节点表示学习（图嵌入）、标签传播（消息传递）、图神经网络"
   ]
  },
  {
   "cell_type": "markdown",
   "metadata": {},
   "source": [
    "- 半监督节点分类的思路：\n",
    "    1. 给出$n$个节点的邻接矩阵$A$\n",
    "    2. 给出矩阵的标签向量$Y=\\{0, 1\\}^n$，其中$Y_v = 1$属于类别1，$Y_v = 0$属于类别0\n",
    "    3. 目标是预测未标签的节点分类"
   ]
  },
  {
   "cell_type": "markdown",
   "metadata": {},
   "source": [
    "- 半监督节点分类问题的求解方法对比\n",
    "\n",
    "| 方法 | 图嵌入 | 表示学习 | 使用属性特征 | 使用标注 | 直推式 | 归纳式 |\n",
    "| :-: | :-: | :-: | :-: | :-: | :-: | :-: |\n",
    "| 人工特征工程 | 是 | 否 | 否 | 否 | / | / |\n",
    "| 基于随机游走的方法 | 是 | 是 | 否 | 否 | 是 | 否 |\n",
    "| 基于矩阵分解的方法 | 是 | 是 | 否 | 否 | 是 | 否 |\n",
    "| 标签传播 | 否 | 否 | 是/否 | 是 | 是 | 否 |\n",
    "| 图神经网络 | 是 | 是 | 是 | 是 | 是 | 是 |"
   ]
  },
  {
   "cell_type": "markdown",
   "metadata": {},
   "source": [
    "- 人工特征工程：节点重要度、集群系数、Graphlet等\n",
    "- 基于随机游走的方法，构建自监督表示学习任务实现图嵌入，无法泛化到新节点，例如DeepWalk、Node2Vec、LINE、SDNE等\n",
    "- 标签传播：假设“物以类聚、人以群分”，利用领域节点类别预测当前节点类别，无法泛化到新节点，例如Label Propagation、Interative Classification、Belief Propagation、Correct & Smooth等\n",
    "- 图神经网络：利用深度学习和神经网络，构建领域节点信息聚合计算图，实现节点嵌入和类别预测，可泛化到新节点，例如GCN、GraphSAGE、GAT、GIN等"
   ]
  },
  {
   "cell_type": "markdown",
   "metadata": {},
   "source": [
    "- Label Propagation：消息传递机制，利用领域节点类别信息"
   ]
  },
  {
   "cell_type": "markdown",
   "metadata": {},
   "source": [
    "- 标签传播和集体分类：\n",
    "    - Label Propagation（Relational Classification）\n",
    "    - Iterative Classification\n",
    "    - Correct & Smooth\n",
    "    - Belief Propagation\n",
    "    - Masked Label Prediction"
   ]
  },
  {
   "cell_type": "markdown",
   "metadata": {},
   "source": [
    "## 2 对图的基本假设"
   ]
  },
  {
   "cell_type": "markdown",
   "metadata": {},
   "source": [
    "- homophily：具有相似属性特征的节点更可能相连且具有相同类别\n",
    "- Influence：“近朱者赤，近墨者黑”"
   ]
  },
  {
   "cell_type": "markdown",
   "metadata": {},
   "source": [
    "- 相似节点更可能相近，可以使用KNN最近邻分类方法\n",
    "- 对一个节点进行标签分类，需要节点自身的属性特征、领域节点类别和属性特征"
   ]
  },
  {
   "cell_type": "markdown",
   "metadata": {},
   "source": [
    "## 3 标签传播（Label Propagation）"
   ]
  },
  {
   "cell_type": "markdown",
   "metadata": {},
   "source": [
    "- 算法步骤：\n",
    "    1. 初始化所有节点，对已知标签设置为$Y_v=\\{0,1\\}$，未知标签设置为$Y_v = 0.5$\n",
    "    2. 开始迭代，计算该节点周围的所有节点P值的总和的平均值（加权平均）\n",
    "    $$\n",
    "    P(Y_v = C) = \\frac{1}{\\displaystyle \\sum_{(v, u) \\in E} A_{v, u}} \\sum_{(v, u) \\in E} P(Y_u = c)\n",
    "    $$\n",
    "    3. 当节点P值都收敛之后，可以设定阈值，进行类别划分，例如大于0.5设置为类别1，小于0.5设置为类别0"
   ]
  },
  {
   "cell_type": "markdown",
   "metadata": {},
   "source": [
    "- 算法缺点：\n",
    "    - 仅使用网络连接信息，没有使用节点属性信息\n",
    "    - 不保证收敛"
   ]
  },
  {
   "cell_type": "markdown",
   "metadata": {},
   "source": [
    "## 4 Iterative Classification"
   ]
  },
  {
   "cell_type": "markdown",
   "metadata": {},
   "source": [
    "- 定义：\n",
    "    - 节点$v$的属性信息为$f_v$，领域节点$N_v$的类别为$z_v$\n",
    "    - 分类器$\\phi_1(f_v)$仅使用节点属性特征$f_v$\n",
    "    - 分类器$\\phi_2(f_v, z_v)$使用节点属性特征$f_v$和网络连接特征$z_v$（即领域节点类别信息）\n",
    "    - $z_v$为包含领域节点类别信息的向量"
   ]
  },
  {
   "cell_type": "markdown",
   "metadata": {},
   "source": [
    "- 算法步骤：\n",
    "    1. 使用已标注的数据训练两个分类器：$\\phi_1(f_v)$、$\\phi_2(f_v, z_v)$\n",
    "    2. 迭代直至收敛：用$\\phi_1$预测$Y_v$，用$Y_z$计算$z_v$，然后再用$\\phi_2$预测所有节点类别，更新领域节点$z_v$，用新的$\\phi_2$更新$Y_v$"
   ]
  },
  {
   "cell_type": "markdown",
   "metadata": {},
   "source": [
    "- 算法缺点：不保证收敛"
   ]
  },
  {
   "cell_type": "markdown",
   "metadata": {},
   "source": [
    "- 该算法可抽象为马尔科夫假设，即$P(Y_v) = P(Y_v | N_v)$"
   ]
  },
  {
   "cell_type": "markdown",
   "metadata": {},
   "source": [
    "## 5 Correct & Smooth"
   ]
  },
  {
   "cell_type": "markdown",
   "metadata": {},
   "source": [
    "- 算法步骤：\n",
    "    1. 训练基础分类器，预测所有节点的分类结果，包含分类的类别概率（soft label）\n",
    "    2. 得到训练好的基础分类器\n",
    "    3. Correct步骤：计算training error，将不确定性进行传播和均摊（error在图中也有homophily）\n",
    "    4. Smooth步骤：对最终的预测结果进行Label Propagation"
   ]
  },
  {
   "cell_type": "markdown",
   "metadata": {},
   "source": [
    "- Correct步骤：\n",
    "    - 扩散training errors $E^{(0)}$\n",
    "    - 将邻接矩阵$A$进行归一化，得到$ \\tilde{A} = D^{-\\frac{1}{2}} A D^{\\frac{1}{2}}$\n",
    "    - 迭代计算：$E^{(t+1)} \\leftarrow (1 - \\alpha) \\cdot E^{(t)} + \\alpha \\cdot \\tilde{A} E^{(t)}$"
   ]
  },
  {
   "cell_type": "markdown",
   "metadata": {},
   "source": [
    "> $\\tilde{A}$特性：\n",
    "> 1. $\\tilde{A}$的特征值$\\lambda \\in [-1, 1]$\n",
    "> 2. 幂运算之后，依然保证收敛\n",
    "> 3. 如果$i$和$j$节点相连，则$\\displaystyle \\tilde{A}_{ij} = \\frac{1}{\\sqrt{d_i} \\sqrt{d_j}}$"
   ]
  },
  {
   "cell_type": "markdown",
   "metadata": {},
   "source": [
    "- Smooth步骤（类似Label Propagation）：\n",
    "    - 通过图得到$Z^{(0)}$\n",
    "    - 迭代计算：$Z^{(t+1)} \\leftarrow (1 - \\alpha) \\cdot Z^{(t)} + \\alpha \\cdot \\tilde{A} Z^{(t)}$\n",
    "\n",
    "其中，$Z$中的每个节点的分类概率并不是求和为1的"
   ]
  },
  {
   "cell_type": "markdown",
   "metadata": {},
   "source": [
    "- 总结：\n",
    "    1. Correct & Smooth(C&S)方法用图的结构信息进行后处理\n",
    "    2. Correct步骤对不确定性（error）进行扩散\n",
    "    3. Smooth步骤对最终的预测结果进行扩散\n",
    "    4. C&S是一个很好的半监督节点分类方法"
   ]
  },
  {
   "cell_type": "markdown",
   "metadata": {},
   "source": [
    "## 6 Loopy Belief Propagation"
   ]
  },
  {
   "cell_type": "markdown",
   "metadata": {},
   "source": [
    "- 类似消息传递，基于动态规划，即下一时刻的状态仅取决于上一时刻，当所有节点达到共识时，可得最终结果"
   ]
  },
  {
   "cell_type": "markdown",
   "metadata": {},
   "source": [
    "- 算法思路：\n",
    "    1. 定义一个节点序列\n",
    "    2. 按照边的有向顺序排列\n",
    "    3. 从节点$i$到节点$i+1$计数（类似报数）"
   ]
  },
  {
   "cell_type": "markdown",
   "metadata": {},
   "source": [
    "- 定义：\n",
    "    - Label-label potential matrix $\\psi$：当邻居节点$i$为类别$Y_i$时，节点$j$为类别$Y_j$的概率（标量），反映了节点和其邻居节点之间的依赖关系\n",
    "    - Prior belief $\\phi$：$\\phi(Y_i)$表示节点$i$为类别$Y_i$的概率\n",
    "    - $m_{i \\rightarrow j}(Y_j)$：表示节点$i$认为节点$j$是类别$Y_j$的概率\n",
    "    - $\\mathcal{L}$：表示节点的所有标签"
   ]
  },
  {
   "cell_type": "markdown",
   "metadata": {},
   "source": [
    "- 算法步骤：\n",
    "    1. 初始化所有节点信息都为1\n",
    "    2. 迭代计算：\n",
    "    $$\n",
    "    m_{i \\rightarrow j}(Y_j) = \\sum_{Y_i \\in \\mathcal{L}} \\psi(Y_i, Y_j) \\phi_i(Y_i) \\prod_{k \\in N_j \\backslash j} m_{k \\rightarrow i} (Y_i), \\ \\forall Y_j \\in \\mathcal{L}\n",
    "    $$\n",
    "    3. 收敛之后，可得到结果：\n",
    "    $$\n",
    "    b_i(Y_i) = \\phi_i(Y_i) \\prod_{j \\in N_i} m_{j \\rightarrow i} (Y_i), \\ \\forall Y_j \\in \\mathcal{L}\n",
    "    $$"
   ]
  },
  {
   "cell_type": "markdown",
   "metadata": {},
   "source": [
    "- 优点：易于编程实现，可以应用于高阶$\\psi(Y_i, Y_j, Y_k, Y_v \\dots)$\n",
    "- 存在问题：如果图中有环，会不收敛"
   ]
  },
  {
   "cell_type": "markdown",
   "metadata": {},
   "source": [
    "## 7 Masked Label Prediction"
   ]
  },
  {
   "cell_type": "markdown",
   "metadata": {},
   "source": [
    "- 灵感来自于语言模型BERT"
   ]
  },
  {
   "cell_type": "markdown",
   "metadata": {},
   "source": [
    "- 算法思路：\n",
    "    1. 随机将节点的标签设置为0，用$[X, \\tilde{Y}]$预测已标记的节点标签\n",
    "    2. 使用$\\tilde{Y}$预测未标注的节点"
   ]
  },
  {
   "cell_type": "markdown",
   "metadata": {},
   "source": [
    "## 8 本章总结"
   ]
  },
  {
   "cell_type": "markdown",
   "metadata": {},
   "source": [
    "本次任务，主要介绍了标签传播与节点分类相关内容，包括："
   ]
  },
  {
   "cell_type": "markdown",
   "metadata": {},
   "source": [
    "- 介绍半监督节点分类，并比较求解方法（人工特征方法、基于随机游走的方法、基于矩阵分解的方法、标签传播、图神经网络）\n",
    "- 介绍5种标签传播和集体分类，包含Label Propagation、Iterative Classification、Correct & Smooth、Belief Propagation、Masked Label Prediction"
   ]
  }
 ],
 "metadata": {
  "kernelspec": {
   "display_name": "Python 3 (ipykernel)",
   "language": "python",
   "name": "python3"
  },
  "language_info": {
   "codemirror_mode": {
    "name": "ipython",
    "version": 3
   },
   "file_extension": ".py",
   "mimetype": "text/x-python",
   "name": "python",
   "nbconvert_exporter": "python",
   "pygments_lexer": "ipython3",
   "version": "3.7.9"
  }
 },
 "nbformat": 4,
 "nbformat_minor": 1
}
