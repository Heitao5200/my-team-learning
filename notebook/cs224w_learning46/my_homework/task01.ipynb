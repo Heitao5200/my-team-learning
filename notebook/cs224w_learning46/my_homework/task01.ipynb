{
 "cells": [
  {
   "cell_type": "markdown",
   "metadata": {
    "collapsed": true
   },
   "source": [
    "# Task01 图机器学习导论"
   ]
  },
  {
   "cell_type": "markdown",
   "metadata": {},
   "source": [
    "## 1 基本概念"
   ]
  },
  {
   "cell_type": "markdown",
   "metadata": {},
   "source": [
    "- 图：描述关联数据的通用语言\n",
    "- 图的应用场景：计算机网络、疾病传播路径、食物链、地铁站、社交网络、经济网络、通讯网络、论文引用网络、互联网、神经网络、医疗知识图谱、基因和蛋白质的调控网络、场景网络、化学分子"
   ]
  },
  {
   "cell_type": "markdown",
   "metadata": {},
   "source": [
    "## 2 如何对图数据进行数据挖掘"
   ]
  },
  {
   "cell_type": "markdown",
   "metadata": {},
   "source": [
    "### 2.1 学习任务分类"
   ]
  },
  {
   "cell_type": "markdown",
   "metadata": {},
   "source": [
    "- 传统机器学习：在分类、回归任务中，数据样本之间独立同分布\n",
    "- 现代深度学习：主要用于处理序列、表格类数据，包括全连接神经网络、卷积神经网络（CS231N）、循环神经网络（CS224N）、Transformer、图神经网络（CS244W）\n",
    "- 图机器学习是人工智能和深度学习的新蓝海"
   ]
  },
  {
   "cell_type": "markdown",
   "metadata": {},
   "source": [
    "### 2.2 图深度学习难点"
   ]
  },
  {
   "cell_type": "markdown",
   "metadata": {},
   "source": [
    "- 任意尺寸输入、拓扑复杂\n",
    "- 没有固定节点顺序和参考锚点\n",
    "- 动态变化，具有多模态特征（例如歌曲，包括音频、视频MV、歌手介绍等特征）"
   ]
  },
  {
   "cell_type": "markdown",
   "metadata": {},
   "source": [
    "### 2.3 图神经网络"
   ]
  },
  {
   "cell_type": "markdown",
   "metadata": {},
   "source": [
    "- 优点：无需人工特征工程，可以进行端到端的表示学习，并自动学习特征\n",
    "- 表示学习（图嵌入）：把复杂数据（图像、文本、语音）变成一个包含节点语义信息的嵌入向量，能够充分反应原始数据的语义"
   ]
  },
  {
   "cell_type": "markdown",
   "metadata": {},
   "source": [
    "## 3 图机器学习、图神经网络编程工具"
   ]
  },
  {
   "cell_type": "markdown",
   "metadata": {},
   "source": [
    "- PyG（PyTorch Geometric）：官方自己的库，和PyTorch类似\n",
    "- GraphGym\n",
    "- NetworkX\n",
    "- DGL：李沐老师推荐的，适合进行学术研究\n",
    "- 图数据可视化：AntV、Echarts、GraphXR"
   ]
  },
  {
   "cell_type": "markdown",
   "metadata": {},
   "source": [
    "## 4 图机器学习应用"
   ]
  },
  {
   "cell_type": "markdown",
   "metadata": {},
   "source": [
    "### 4.1 应用场景"
   ]
  },
  {
   "cell_type": "markdown",
   "metadata": {},
   "source": [
    "- 最短路径的搜索和查找（Pathfinding & Search）：高德地图导航\n",
    "- 分析节点重要度（Centrality / Importance）：PageRank算法、网页排名\n",
    "- 社群检测（Community Detection）\n",
    "- 连接预测（Link Prediction）：好友的推荐\n",
    "- 相似度（Similarity）：人物相似性\n",
    "- 图嵌入（Embeddings）：Node2Vec"
   ]
  },
  {
   "cell_type": "markdown",
   "metadata": {},
   "source": [
    "### 4.2 应用举例"
   ]
  },
  {
   "cell_type": "markdown",
   "metadata": {},
   "source": [
    "- Edge-level：\n",
    "    - 推荐系统：喜欢的电影、听的音乐、买的商品\n",
    "    - 药物联合副作用：潜在药物组合太多，无法逐一临床验证，建立图，预测药物副作用"
   ]
  },
  {
   "cell_type": "markdown",
   "metadata": {},
   "source": [
    "- Subgraph-level：\n",
    "    - 导航预测：预计交通时间"
   ]
  },
  {
   "cell_type": "markdown",
   "metadata": {},
   "source": [
    "- Graph-level：\n",
    "    - 药物发现：从大量抗生素中，选取出有潜力的分子，再生成符合条件的新分子，或可以在已有分子的基础上进行优化\n",
    "    - 物理模拟：将粒子作为节点，相互作用力作为连接，构建图，从而预测下个时刻的粒子位置及速度"
   ]
  },
  {
   "cell_type": "markdown",
   "metadata": {},
   "source": [
    "- 预测蛋白质的空间结构：\n",
    "    - 背景：由于氨基酸组成的蛋白质链非常多，需要从氨基酸多肽链一级结构，预测三维结构\n",
    "    - AlphaFold：能够预测蛋白质的三维结构，加速蛋白酶的研发\n",
    "    - 图的构建：将角度和距离作为连接，基团作为节点\n",
    "    - AlphaFold DB：有2亿多个蛋白质的三维结构"
   ]
  },
  {
   "cell_type": "markdown",
   "metadata": {},
   "source": [
    "### 4.3 图背后的商业价值"
   ]
  },
  {
   "cell_type": "markdown",
   "metadata": {},
   "source": [
    "- 图是最优质的长期资产\n",
    "- 网络效应是一个企业最深的护城河"
   ]
  },
  {
   "cell_type": "markdown",
   "metadata": {},
   "source": [
    "## 5 图数据挖掘项目"
   ]
  },
  {
   "cell_type": "markdown",
   "metadata": {},
   "source": [
    "- ReadPaper：专业的学术讨论社区，实现文献引用网络\n",
    "- CONNECTED PAPERS：可以展示文献引用网络\n",
    "- BIOS：生物医学知识图谱\n",
    "- Hypercrx：展示项目关系网络图、项目活跃开发者协作网络图\n",
    "- OpenRank：一种基于异质网络的价值评价算法\n",
    "- 开源项目和开源企业排行榜：https://open-leaderboard.x-lab.info\n",
    "- 红楼梦人物知识图谱"
   ]
  },
  {
   "cell_type": "markdown",
   "metadata": {},
   "source": [
    "## 6 本章总结"
   ]
  },
  {
   "cell_type": "markdown",
   "metadata": {},
   "source": [
    "本次任务，主要介绍了图机器学习的相关概念、产生背景、应用场景，包括：\n",
    "- 图是描述大自然的通用语言\n",
    "- 图机器学习无需人工特征工程，可以进行端到端的表示学习，并自动学习特征\n",
    "- 图机器学习可以和人工智能各个方向进行结合\n",
    "- 图蕴含著巨大的商业价值和科研价值"
   ]
  }
 ],
 "metadata": {
  "kernelspec": {
   "display_name": "Python 3 (ipykernel)",
   "language": "python",
   "name": "python3"
  },
  "language_info": {
   "codemirror_mode": {
    "name": "ipython",
    "version": 3
   },
   "file_extension": ".py",
   "mimetype": "text/x-python",
   "name": "python",
   "nbconvert_exporter": "python",
   "pygments_lexer": "ipython3",
   "version": "3.7.9"
  }
 },
 "nbformat": 4,
 "nbformat_minor": 1
}
