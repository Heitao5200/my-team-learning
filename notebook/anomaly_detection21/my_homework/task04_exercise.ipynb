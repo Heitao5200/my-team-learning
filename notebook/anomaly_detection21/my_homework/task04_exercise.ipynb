{
 "cells": [
  {
   "cell_type": "markdown",
   "metadata": {
    "collapsed": true
   },
   "source": [
    "# Task04 基于相似度的方法\n",
    "## 1 知识梳理"
   ]
  },
  {
   "cell_type": "markdown",
   "metadata": {},
   "source": [
    "### 1.1 基于距离的度量\n",
    "- 适用范围：多维数值数据、分类数据、文本数据、时间序列数据和序列数据\n",
    "- 前提假设：异常点的$k$近邻距离要远大于正常点\n",
    "\n",
    "#### 1.1.1 基于单元的方法\n",
    "数据空间被划分为单元格，每个维度被划分成宽度最多为$\\frac{D}{2\\sqrt{d}}$单元格  \n",
    "异常点判断规则：\n",
    "- 如果一个单元格中包含超过$k$个数据点及其$L_1$邻居，那么这些数据点都不是异常值。\n",
    "- 如果单元$A$及其相邻$L_1$和$L_2$中包含少于$k$个数据点，则单元$A$中的所有点都是异常值。\n",
    "- 如果不在上述两种情况下，计算该点的$k$最近邻距离：  \n",
    "  1. 对于那些在$L_1$和$L_2$中不超过$k$个且距离小于$D$的数据点，可标记为异常值 \n",
    "  2. 仅需要计算单元$A$中的点到单元$A$的$L_2$邻居中的点的距离 \n",
    "\n",
    "#### 1.1.2 基于索引的方法\n",
    "- 利用多维索引结构（如`R`树、`k-d`树）来搜索每个数据对象$A$在半径$D$范围内的相邻点\n",
    "- 算法的时间复杂度在最坏情况下为$O(kN^2)$，其中$k$是数据集维度，$N$是数据集包含对象的个数\n",
    "- 具有较好的扩展性\n",
    "- 构造索引需要密集复杂的计算量"
   ]
  },
  {
   "cell_type": "markdown",
   "metadata": {},
   "source": [
    "### 1.2 基于密度的度量\n",
    "&emsp;&emsp;算法主要有局部离群因子(`LocalOutlierFactor`, `LOF`)，以及`LOCI`、`CLOF`等基于`LOF`的改进算法"
   ]
  },
  {
   "cell_type": "markdown",
   "metadata": {},
   "source": [
    "#### 1.2.1 $k$-距离\n",
    "&emsp;&emsp;对于数据集$D$中的某一个对象$o$，与其距离最近的$k$个相邻点的最远距离表示为`k-distance(o)`，定义为给定点$o$和数据集$D$中对象$p$之间的距离$d(o,p)$，满足：  \n",
    "- 在集合$D$中至少有$k$个点$p'$，其中$p' \\in D \\backslash \\{o\\}$，满足$d(o,p') \\leqslant d(o, p)$\n",
    "- 在集合$D$中最多有$k-1$个点$p'$，其中$p' \\in D \\backslash \\{o\\}$，满足$d(o,p') < d(o, p)$\n",
    "\n",
    "&emsp;&emsp;以对象$o$为中心，对数据集$D$中的所有点到$o$的距离进行排序(从近到远)，距离对象$o$第$k$近的点$p$与$o$之间的距离就是对象$0$的$k$-距离。"
   ]
  },
  {
   "cell_type": "markdown",
   "metadata": {},
   "source": [
    "#### 1.2.2 $k$-领域\n",
    "- 概念：到对象$o$的距离小于等于$k$-距离的所有点的集合\n",
    "- 数学表达：$N_{\\text{k-distance}(o)}(o) = {p \\in D \\backslash \\{o\\} | d(o,p) \\leqslant \\text{k-distance}(o) }$\n",
    "- 几何意义：对象$o$的$k$-领域是以对象$o$为圆心，$k$-距离为半径围成的圆形区域"
   ]
  },
  {
   "cell_type": "markdown",
   "metadata": {},
   "source": [
    "#### 1.2.3 可达距离\n",
    "- 将数据集$D$内的点到$o$的距离分为两类：\n",
    "    1. 若$p_i$在对象$o$的$k$-邻域内，则可达距离就是给定点$p$关于对象$o$的$k$-距离\n",
    "    2. 若$p_i$在对象$o$的$k$-邻域外，则可达距离就是给定点$p$关于对象$o$的实际距离\n",
    "- 数学表达：$\\text{reach-dist}_k(p,o) = \\max\\{ \\text{k-distance}(o), d(p,o)\\}$"
   ]
  },
  {
   "cell_type": "markdown",
   "metadata": {},
   "source": [
    "#### 1.2.4 局部可达密度\n",
    "- 点与点之间距离越短，密度越大\n",
    "- 数学定义：$$\\text{lrd}_{\\text{MinPts}}(p) = 1 / ( \\displaystyle \\frac{\\displaystyle \\sum_{\\displaystyle o \\in N_{ \\text{MinPts}}(p)} \\text{reach-dist}_{\\text{MinPts}}(p, o)}{|N_{\\text{MinPts}}(p)|})$$\n",
    "- 异常点判定条件：给定点$p$的局部可达密度越高，越可能与其邻域内的点属于同一簇；密度越低，越可能是离群点"
   ]
  },
  {
   "cell_type": "markdown",
   "metadata": {},
   "source": [
    "#### 1.2.5 局部异常因子\n",
    "- 数学定义：$$\n",
    "L O F_{\\text{MinPts}}(p)=\\frac{\\displaystyle \\sum_{\\displaystyle o \\in N_{\\text{MinPts}}(p)} \n",
    "\\frac{\\text{lrd}_{\\text{MinPtx}}(o)}{\\text{lrd}_{\\text{MinPts}}(p)}}{\\left|N_{\\text{MinPts}}(p)\\right|}$$\n",
    "- 描述：表示点$p$的领域$N_k(p)$内其他点的局部可达密度与点$p$的局部可达密度之比的平均数\n",
    "- 如果这个比值接近1，说明点$o$的邻域点密度超不多，点$o$和领域中的点属于同一簇\n",
    "- 如果这个比值小于1，说明点$o$的密度高度高于其邻域点密度，则为密集点\n",
    "- 如果这个比值大于1，说明点$o$的密度小于其领域点密度，则为异常点"
   ]
  },
  {
   "cell_type": "code",
   "execution_count": 1,
   "metadata": {},
   "outputs": [],
   "source": [
    "%matplotlib inline\n",
    "\n",
    "import numpy as np\n",
    "import pandas as pd\n",
    "import matplotlib.pyplot as plt\n",
    "from sklearn.neighbors import LocalOutlierFactor\n",
    "\n",
    "plt.rcParams['font.sans-serif'] = ['SimHei']\n",
    "plt.rcParams['axes.unicode_minus']=False\n",
    "pd.set_option('display.max_columns', None)\n",
    "pd.set_option('display.max_rows', None)"
   ]
  },
  {
   "cell_type": "code",
   "execution_count": 2,
   "metadata": {},
   "outputs": [],
   "source": [
    "np.random.seed(61)\n",
    "\n",
    "# 构造两个数据点集群\n",
    "X_inliers1 = 0.2 * np.random.randn(100, 2)\n",
    "X_inliers2 = 0.5 * np.random.randn(100, 2)\n",
    "X_inliers = np.r_[X_inliers1 + 2, X_inliers2 - 2]\n",
    "\n",
    "# 构造一些离群的点\n",
    "X_outliers = np.random.uniform(low=-4, high=4, size=(20, 2))\n",
    "\n",
    "# 拼成训练集\n",
    "X = np.r_[X_inliers, X_outliers]\n",
    "\n",
    "n_outliers = len(X_outliers)\n",
    "ground_truth = np.ones(len(X), dtype=int)\n",
    "# 打标签，群内点构造离群值为1，离群点构造离群值为-1\n",
    "ground_truth[-n_outliers:] = -1"
   ]
  },
  {
   "cell_type": "code",
   "execution_count": 3,
   "metadata": {},
   "outputs": [
    {
     "data": {
      "image/png": "[encoded data removed]",
      "text/plain": [
       "<Figure size 432x288 with 1 Axes>"
      ]
     },
     "metadata": {
      "needs_background": "light"
     },
     "output_type": "display_data"
    }
   ],
   "source": [
    "plt.title('构造数据集 (LOF)')\n",
    "plt.scatter(X[:-n_outliers, 0], X[:-n_outliers, 1], color='b', s=5, label='集群点')\n",
    "plt.scatter(X[-n_outliers:, 0], X[-n_outliers:, 1], color='orange', s=5, label='离群点')\n",
    "\n",
    "plt.axis('tight')\n",
    "plt.xlim((-5, 5))\n",
    "plt.ylim((-5, 5))\n",
    "legend = plt.legend(loc='upper left')\n",
    "legend.legendHandles[0]._sizes = [10]\n",
    "legend.legendHandles[1]._sizes = [20]\n",
    "plt.show()"
   ]
  },
  {
   "cell_type": "markdown",
   "metadata": {},
   "source": [
    "使用LocalOutlierFactor库对构造数据集进行训练，得到训练的标签和训练分数（局部离群值）。"
   ]
  },
  {
   "cell_type": "code",
   "execution_count": 5,
   "metadata": {},
   "outputs": [
    {
     "data": {
      "text/html": [
       "<div>\n",
       "<style scoped>\n",
       "    .dataframe tbody tr th:only-of-type {\n",
       "        vertical-align: middle;\n",
       "    }\n",
       "\n",
       "    .dataframe tbody tr th {\n",
       "        vertical-align: top;\n",
       "    }\n",
       "\n",
       "    .dataframe thead th {\n",
       "        text-align: right;\n",
       "    }\n",
       "</style>\n",
       "<table border=\"1\" class=\"dataframe\">\n",
       "  <thead>\n",
       "    <tr style=\"text-align: right;\">\n",
       "      <th></th>\n",
       "      <th>x</th>\n",
       "      <th>y</th>\n",
       "      <th>pred</th>\n",
       "      <th>scores</th>\n",
       "    </tr>\n",
       "  </thead>\n",
       "  <tbody>\n",
       "    <tr>\n",
       "      <th>0</th>\n",
       "      <td>1.913701</td>\n",
       "      <td>2.087875</td>\n",
       "      <td>0.0</td>\n",
       "      <td>0.000494</td>\n",
       "    </tr>\n",
       "    <tr>\n",
       "      <th>1</th>\n",
       "      <td>1.999748</td>\n",
       "      <td>2.212225</td>\n",
       "      <td>0.0</td>\n",
       "      <td>0.005255</td>\n",
       "    </tr>\n",
       "    <tr>\n",
       "      <th>2</th>\n",
       "      <td>2.040673</td>\n",
       "      <td>2.133115</td>\n",
       "      <td>0.0</td>\n",
       "      <td>0.001521</td>\n",
       "    </tr>\n",
       "    <tr>\n",
       "      <th>3</th>\n",
       "      <td>1.791277</td>\n",
       "      <td>1.743218</td>\n",
       "      <td>0.0</td>\n",
       "      <td>0.015652</td>\n",
       "    </tr>\n",
       "    <tr>\n",
       "      <th>4</th>\n",
       "      <td>1.991693</td>\n",
       "      <td>1.770405</td>\n",
       "      <td>0.0</td>\n",
       "      <td>0.010113</td>\n",
       "    </tr>\n",
       "  </tbody>\n",
       "</table>\n",
       "</div>"
      ],
      "text/plain": [
       "          x         y  pred    scores\n",
       "0  1.913701  2.087875   0.0  0.000494\n",
       "1  1.999748  2.212225   0.0  0.005255\n",
       "2  2.040673  2.133115   0.0  0.001521\n",
       "3  1.791277  1.743218   0.0  0.015652\n",
       "4  1.991693  1.770405   0.0  0.010113"
      ]
     },
     "execution_count": 5,
     "metadata": {},
     "output_type": "execute_result"
    }
   ],
   "source": [
    "# 训练模型（找出每个数据的实际离群值）\n",
    "clf = LocalOutlierFactor(n_neighbors=20, contamination=0.1)\n",
    "\n",
    "# 对单个数据集进行无监督检测时，以1和-1分别表示非离群点与离群点\n",
    "y_pred = clf.fit_predict(X)\n",
    "\n",
    "# 找出构造离群值与实际离群值不同的点\n",
    "n_errors = y_pred != ground_truth\n",
    "X_pred = np.c_[X,n_errors]\n",
    "X_scores = clf.negative_outlier_factor_\n",
    "\n",
    "# 实际离群值有正有负，转化为正数并保留其差异性（不是直接取绝对值）\n",
    "X_scores_nor = (X_scores.max() - X_scores) / (X_scores.max() - X_scores.min())\n",
    "X_pred = np.c_[X_pred,X_scores_nor]\n",
    "X_pred = pd.DataFrame(X_pred,columns=['x','y','pred','scores'])\n",
    "X_pred_same = X_pred[X_pred['pred'] == False]\n",
    "X_pred_different = X_pred[X_pred['pred'] == True]\n",
    "\n",
    "# 直观地看一看数据\n",
    "X_pred.head()"
   ]
  },
  {
   "cell_type": "markdown",
   "metadata": {},
   "source": [
    "将训练分数（离群程度）用圆直观地表示出来，并对构造标签与训练标签不一致的数据用不同颜色的圆进行标注。"
   ]
  },
  {
   "cell_type": "code",
   "execution_count": 15,
   "metadata": {},
   "outputs": [
    {
     "data": {
      "image/png": "[encoded data removed]",
      "text/plain": [
       "<Figure size 432x288 with 1 Axes>"
      ]
     },
     "metadata": {
      "needs_background": "light"
     },
     "output_type": "display_data"
    }
   ],
   "source": [
    "plt.title('局部离群因子检测 (LOF)')\n",
    "plt.scatter(X[:-n_outliers, 0], X[:-n_outliers, 1], color='b', s=5, label='集群点')\n",
    "plt.scatter(X[-n_outliers:, 0], X[-n_outliers:, 1], color='orange', s=5, label='离群点')\n",
    "\n",
    "# 以标准化之后的局部离群值为半径画圆，以圆的大小直观表示出每个数据点的离群程度\n",
    "plt.scatter(X_pred_same.values[:,0], X_pred_same.values[:, 1],\n",
    "            s=1000 * X_pred_same.values[:, 3], edgecolors='c',\n",
    "            facecolors='none', label='标签一致')\n",
    "plt.scatter(X_pred_different.values[:, 0], X_pred_different.values[:, 1], \n",
    "            s=1000 * X_pred_different.values[:, 3], edgecolors='violet', \n",
    "            facecolors='none', label='标签不同')\n",
    "\n",
    "plt.axis('tight')\n",
    "plt.xlim((-5, 5))\n",
    "plt.ylim((-5, 5))\n",
    "\n",
    "legend = plt.legend(loc='upper left')\n",
    "legend.legendHandles[0]._sizes = [10]\n",
    "legend.legendHandles[1]._sizes = [20]\n",
    "\n",
    "plt.show()"
   ]
  },
  {
   "cell_type": "markdown",
   "metadata": {},
   "source": [
    "可以看出，模型成功区分出了大部分的离群点，一些因为随机原因散落在集群内部的“离群点”也被识别为集群内部的点，但是一些与集群略为分散的“集群点”则被识别为离群点。"
   ]
  },
  {
   "cell_type": "markdown",
   "metadata": {},
   "source": [
    "## 2 练习\n",
    "学习使用PyOD库生成toy example并调用LOF算法"
   ]
  }
 ],
 "metadata": {
  "kernelspec": {
   "display_name": "Python 3",
   "language": "python",
   "name": "python3"
  },
  "language_info": {
   "codemirror_mode": {
    "name": "ipython",
    "version": 3
   },
   "file_extension": ".py",
   "mimetype": "text/x-python",
   "name": "python",
   "nbconvert_exporter": "python",
   "pygments_lexer": "ipython3",
   "version": "3.7.1"
  },
  "toc": {
   "base_numbering": 1,
   "nav_menu": {},
   "number_sections": false,
   "sideBar": true,
   "skip_h1_title": false,
   "title_cell": "Table of Contents",
   "title_sidebar": "Contents",
   "toc_cell": false,
   "toc_position": {},
   "toc_section_display": true,
   "toc_window_display": true
  }
 },
 "nbformat": 4,
 "nbformat_minor": 1
}
