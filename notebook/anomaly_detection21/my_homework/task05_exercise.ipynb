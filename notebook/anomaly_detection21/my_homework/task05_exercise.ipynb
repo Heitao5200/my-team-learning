{
 "cells": [
  {
   "cell_type": "markdown",
   "metadata": {
    "collapsed": true
   },
   "source": [
    "# Task05 高维异常检测\n",
    "\n",
    "## 1 知识梳理"
   ]
  },
  {
   "cell_type": "markdown",
   "metadata": {},
   "source": [
    "### 1.1 Feature Bagging\n",
    "- 对象：`feature`\n",
    "- 主要步骤：\n",
    "    1. 选择LOF算法作为基检测器\n",
    "    2. 分数标准化：LOF输出归一化值\n",
    "    3. 组合方式：平均和最大化组合函数\n",
    "- 误差：偏差和方差\n",
    "    1. 偏差：指预测值与真实值之间的差距\n",
    "    2. 方差：指算法输出结果与算法输出期望之间的误差"
   ]
  },
  {
   "cell_type": "markdown",
   "metadata": {},
   "source": [
    "### 1.2 Isolation Forests（孤立森林）\n",
    "- 孤立森林属于非参数和无监督的算法，既不需要定义数学模型也不需要训练数据有标签\n",
    "- 使用随机超平面切割数据空间，如果某个点很快就被分隔出来，则该点最有可能是异常点\n",
    "- 异常点判定思路：\n",
    "    1. 构造`t`棵随机二叉树\n",
    "    2. 异常点在树中很快被划分到叶子节点，可通过叶子节点到根节点的路径长度判断是否为异常点"
   ]
  },
  {
   "cell_type": "markdown",
   "metadata": {},
   "source": [
    "## 2 练习\n",
    "\n",
    "### 2.1 使用PyOD库生成toy example并调用feature bagging"
   ]
  },
  {
   "cell_type": "markdown",
   "metadata": {},
   "source": [
    "### 2.2 使用PyOD库生成toy example并调用Isolation Forests"
   ]
  },
  {
   "cell_type": "markdown",
   "metadata": {},
   "source": [
    "### 2.3 feature bagging为什么可以降低方差？"
   ]
  },
  {
   "cell_type": "markdown",
   "metadata": {},
   "source": [
    "### 2.4 feature bagging存在哪些缺陷，有什么可以优化的idea？"
   ]
  }
 ],
 "metadata": {
  "kernelspec": {
   "display_name": "Python 3",
   "language": "python",
   "name": "python3"
  },
  "language_info": {
   "codemirror_mode": {
    "name": "ipython",
    "version": 3
   },
   "file_extension": ".py",
   "mimetype": "text/x-python",
   "name": "python",
   "nbconvert_exporter": "python",
   "pygments_lexer": "ipython3",
   "version": "3.7.1"
  },
  "toc": {
   "base_numbering": 1,
   "nav_menu": {},
   "number_sections": false,
   "sideBar": true,
   "skip_h1_title": false,
   "title_cell": "Table of Contents",
   "title_sidebar": "Contents",
   "toc_cell": false,
   "toc_position": {},
   "toc_section_display": true,
   "toc_window_display": false
  }
 },
 "nbformat": 4,
 "nbformat_minor": 1
}
