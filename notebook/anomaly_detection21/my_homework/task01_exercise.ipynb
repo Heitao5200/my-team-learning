{
 "cells": [
  {
   "cell_type": "markdown",
   "metadata": {
    "collapsed": true
   },
   "source": [
    "# Task01 异常检测概述\n",
    "\n",
    "## 1 知识梳理"
   ]
  },
  {
   "cell_type": "markdown",
   "metadata": {},
   "source": [
    "### 1.1 异常检测介绍\n",
    "- 概念：识别与正常数据不同的数据，与预期行为差异大的数据\n",
    "- 异常类别：点异常、上下文异常、群体异常\n",
    "- 任务分类：有监督、无监督、半监督\n",
    "- 场景：故障检测、物联网异常检测、欺诈检测、工业异常检测、时序异常检测、视频异常检测、日志异常检测、医疗日常检测、网络入侵检测"
   ]
  },
  {
   "cell_type": "markdown",
   "metadata": {},
   "source": [
    "### 1.2 异常检测常用方法\n",
    "- 传统方法：  \n",
    "    - 基于统计学习的方法：学习一个拟合给定数据集的生成模型，然后识别该模型低概率区域中的对象，把它们作为异常点。  \n",
    "    - 线性模型：对数据集进行降维，降维后的数据能够最大程度地保留原始数据的特征  \n",
    "    - 基于相似度的方法：基于集群(簇)的检测、基于距离的度量、基于密度的度量\n",
    "- 集成方法：`Feature bagging`、孤立森林\n",
    "- 机器学习方法：在有标签情况下，使用树模型(`GBDT`，`XGBoost`)"
   ]
  },
  {
   "cell_type": "markdown",
   "metadata": {},
   "source": [
    "### 1.3 异常检测常用开源库\n",
    "- `scikit-learn`库\n",
    "- `PyOD`库"
   ]
  },
  {
   "cell_type": "markdown",
   "metadata": {},
   "source": [
    "# 2 练习\n",
    "学习`pyod`库基本操作（如何生成`toy example`，了解训练及预测的API）"
   ]
  }
 ],
 "metadata": {
  "kernelspec": {
   "display_name": "Python 3",
   "language": "python",
   "name": "python3"
  },
  "language_info": {
   "codemirror_mode": {
    "name": "ipython",
    "version": 3
   },
   "file_extension": ".py",
   "mimetype": "text/x-python",
   "name": "python",
   "nbconvert_exporter": "python",
   "pygments_lexer": "ipython3",
   "version": "3.7.1"
  },
  "toc": {
   "base_numbering": 1,
   "nav_menu": {},
   "number_sections": false,
   "sideBar": true,
   "skip_h1_title": false,
   "title_cell": "Table of Contents",
   "title_sidebar": "Contents",
   "toc_cell": false,
   "toc_position": {},
   "toc_section_display": true,
   "toc_window_display": false
  }
 },
 "nbformat": 4,
 "nbformat_minor": 1
}
