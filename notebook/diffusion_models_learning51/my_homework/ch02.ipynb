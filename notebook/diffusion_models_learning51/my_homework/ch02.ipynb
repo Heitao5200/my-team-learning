{
 "cells": [
  {
   "cell_type": "markdown",
   "id": "2e03c6c3d41cc6d8",
   "metadata": {},
   "source": [
    "# 第2章 Hugging Face简介"
   ]
  },
  {
   "cell_type": "markdown",
   "id": "ffef10cf",
   "metadata": {},
   "source": [
    "## 2.1 Hugging Face核心功能介绍"
   ]
  },
  {
   "cell_type": "markdown",
   "id": "a637f866",
   "metadata": {},
   "source": [
    "- 模型、数据集存储库：Hugging Face Hub，主要用于托管模型和数据集，并详细描述模型名称、分类标签、模型的开源协议、arXiv.org的论文引用等。\n",
    "- 模型卡片：包括模型用途、制作模型的背景、模型的详细介绍、引用论文、使用说明、推理API等。\n",
    "- 推理API：文字形式的输入输出、上传图片和调用游览器获取麦克风实时音频。\n",
    "- Space应用：提供创建和部署机器学习应用的功能。"
   ]
  },
  {
   "cell_type": "markdown",
   "id": "1aaec9ca",
   "metadata": {},
   "source": [
    "## 2.2 Hugging Face开源库"
   ]
  },
  {
   "cell_type": "markdown",
   "id": "aaa2e6eb",
   "metadata": {},
   "source": [
    "- Transformers：下载和训练SOTA的预训练模型，支持PyTorch、TensorFlow和JAX。\n",
    "- Datasets：使用代码方法，轻松加载各种数据集。\n",
    "- Diffusers：扩散模型工具箱，使用各种噪声调度器，调节模型推理过程中的生成速度和质量。\n",
    "- Accelerate：支持在任何类型的设备上运行原本PyTorch训练脚本。\n",
    "- Optimum：Transformers扩展，性能优化工具。\n",
    "- timm：深度学习库，包含图像模型、优化器、调度器以及训练/验证脚本等。"
   ]
  },
  {
   "cell_type": "markdown",
   "id": "c9bedd50",
   "metadata": {},
   "source": [
    "## 2.3 Gradio工具介绍"
   ]
  },
  {
   "cell_type": "markdown",
   "id": "2f293102",
   "metadata": {},
   "source": [
    "Gradio用于构建机器学习和数据科学演示以及Web应用，能够通过浏览器拖放图片、粘贴文本、录制声音并进行演示互动。"
   ]
  },
  {
   "cell_type": "code",
   "execution_count": 1,
   "id": "1bb6b1b7",
   "metadata": {
    "scrolled": true
   },
   "outputs": [
    {
     "name": "stderr",
     "output_type": "stream",
     "text": [
      "E:\\LearningDisk\\Learning_Projects\\MyPythonProjects\\my-team-learning\\venv\\lib\\site-packages\\tqdm\\auto.py:21: TqdmWarning: IProgress not found. Please update jupyter and ipywidgets. See https://ipywidgets.readthedocs.io/en/stable/user_install.html\n",
      "  from .autonotebook import tqdm as notebook_tqdm\n"
     ]
    },
    {
     "name": "stdout",
     "output_type": "stream",
     "text": [
      "Running on local URL:  http://127.0.0.1:7860\n",
      "\n",
      "To create a public link, set `share=True` in `launch()`.\n"
     ]
    },
    {
     "data": {
      "text/html": [
       "<div><iframe src=\"http://127.0.0.1:7860/\" width=\"100%\" height=\"500\" allow=\"autoplay; camera; microphone; clipboard-read; clipboard-write;\" frameborder=\"0\" allowfullscreen></iframe></div>"
      ],
      "text/plain": [
       "<IPython.core.display.HTML object>"
      ]
     },
     "metadata": {},
     "output_type": "display_data"
    },
    {
     "data": {
      "text/plain": []
     },
     "execution_count": 1,
     "metadata": {},
     "output_type": "execute_result"
    }
   ],
   "source": [
    "import gradio as gr\n",
    "\n",
    "def greet(name):\n",
    "    return \"Hello \" + name + \"!\"\n",
    "\n",
    "demo = gr.Interface(fn=greet, inputs=\"text\", outputs=\"text\")\n",
    "\n",
    "demo.launch()"
   ]
  },
  {
   "cell_type": "markdown",
   "id": "af791e6c",
   "metadata": {},
   "source": [
    "![](images/ch02-01.png)"
   ]
  }
 ],
 "metadata": {
  "kernelspec": {
   "display_name": "Python 3 (ipykernel)",
   "language": "python",
   "name": "python3"
  },
  "language_info": {
   "codemirror_mode": {
    "name": "ipython",
    "version": 3
   },
   "file_extension": ".py",
   "mimetype": "text/x-python",
   "name": "python",
   "nbconvert_exporter": "python",
   "pygments_lexer": "ipython3",
   "version": "3.10.5"
  }
 },
 "nbformat": 4,
 "nbformat_minor": 5
}
