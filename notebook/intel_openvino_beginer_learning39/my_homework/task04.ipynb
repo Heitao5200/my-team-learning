{
 "cells": [
  {
   "cell_type": "markdown",
   "metadata": {
    "collapsed": true
   },
   "source": [
    "# Task04 视频处理及课程总结"
   ]
  },
  {
   "cell_type": "markdown",
   "metadata": {},
   "source": [
    "## 1 视频处理"
   ]
  },
  {
   "cell_type": "markdown",
   "metadata": {},
   "source": [
    "- 视频处理流程：解码、预处理、推理分析、分析结果处理和编码\n",
    "- 解码：主要对视频进行解压缩，通过相关的解码器将1分钟1080p的视频（大小为71.9MB）其解压缩为Raw格式的原始视频流（大小为4.6GB），可使用Media-SDK（基于Intel集成GPU的硬件加速）、OpenCV、GSTREAMER/FFMPEG三种视频解码方式\n",
    "- 预处理：获取每一帧图像匹配神经网络的输入格式，包括转换图像格式、调整图像大小、对不清晰图像进行增强等\n",
    "- 推理分析：使用基于深度学习的模型进行分类、检测、分割等操作，可支持并行或串行多个模型的多个推理任务\n",
    "- 分析结果处理：对推理分析的结果进行处理，如结果加上识别框、打上标签等\n",
    "- 编码：获得视频流的处理结果之后，重新对视频流进行压缩，用于处理或上传到云端\n",
    "- Intel Media SDK简介：英特尔媒体软件开发套件，支持创建和专业视频解决方案所需的标准API"
   ]
  },
  {
   "cell_type": "markdown",
   "metadata": {},
   "source": [
    "## 2 Gstreamer流水线视频处理"
   ]
  },
  {
   "cell_type": "markdown",
   "metadata": {},
   "source": [
    "- 适用场景：\n",
    "    1. 可用于多个模型并行进行测量推理性能\n",
    "    2. 可用于对一个特殊视频流进行要素整合处理\n",
    "    3. 可以解决多个视频流的解码密度问题\n",
    "- DL-Streamer介绍：可以用于构建计算图或流水线，支持将开发的视频分析元素添加至Gstreamer Elements的列表中，利用OpenVINO进行检测、分类、识别跟踪、可视化等操作"
   ]
  },
  {
   "cell_type": "markdown",
   "metadata": {},
   "source": [
    "## 3 OpenVINO工具套件中级课程总结"
   ]
  },
  {
   "cell_type": "markdown",
   "metadata": {},
   "source": [
    "- 介绍了视频分析流水线，包括AI视觉应用需要执行的全部任务、Intel支持用于每个阶段的硬件（CPU、GPU、FPGA、AI加速器）和OpenVINO包含的软件工具\n",
    "- 练习了如何使用OpenCV、Media-SDK、DLDT-Inference Engine\n",
    "- 练习使用DL-Streamer模拟整个视频分析流水线\n",
    "- 讨论了OpenVINO支持的许多操作系统和平台\n",
    "- 练习了用于计算机视觉和视频处理的OpenCV代码\n",
    "- 讨论并演示了如何操作Media-SDK\n",
    "- 了解了DLDT完整的推理流程，包括模型优化器离线使用模型的流程（生成IR文件）、推理引擎使用IR文件在多个设备上推理\n",
    "- 介绍了在特定设备上影响模型推理的诸多因素，并添加API计数器和使用基准测试应用\n",
    "- 回顾并练习了构建AI产品和应用的整个流程步骤，包括模型下载器从Open Model Zoo下载模型、模型准备、性能测试方法、系统选择、编解码密度、快速对整个流水线进行测试、参考构建AI应用"
   ]
  },
  {
   "cell_type": "markdown",
   "metadata": {},
   "source": [
    "## 4 总结"
   ]
  },
  {
   "cell_type": "markdown",
   "metadata": {},
   "source": [
    "&emsp;&emsp;本次任务，主要介绍了视频处理和Gstreamer流水线视频处理：\n",
    "  1. 视频处理流程：解码、预处理、推理分析、分析结果处理和编码\n",
    "  2. Gstreamer流水线视频处理主要基于DL-Streamer工具，用于构建计算图或流水线，利用OpenVINO进行检测、分类、识别跟踪、可视化等操作"
   ]
  }
 ],
 "metadata": {
  "kernelspec": {
   "display_name": "Python 3 (ipykernel)",
   "language": "python",
   "name": "python3"
  },
  "language_info": {
   "codemirror_mode": {
    "name": "ipython",
    "version": 3
   },
   "file_extension": ".py",
   "mimetype": "text/x-python",
   "name": "python",
   "nbconvert_exporter": "python",
   "pygments_lexer": "ipython3",
   "version": "3.7.9"
  }
 },
 "nbformat": 4,
 "nbformat_minor": 1
}
