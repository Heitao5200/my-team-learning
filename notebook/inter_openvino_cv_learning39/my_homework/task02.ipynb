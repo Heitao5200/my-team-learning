{
 "cells": [
  {
   "cell_type": "markdown",
   "metadata": {
    "collapsed": true
   },
   "source": [
    "# Task02 什么是计算机视觉？如何使用计算机来处理视频？"
   ]
  },
  {
   "cell_type": "markdown",
   "metadata": {},
   "source": [
    "## 1 视频与图像\n",
    "\n",
    "- 视频中的大数据：每天全球会有5亿人观看1部网络视频，80%的流量被视频占据，视频中包含了大量的数据，视频由连续的图像构成，只要这些图像的移动速度足够快，会让我们产生物体连续运动的错觉\n",
    "- 图像的表示：每个图像由像素构成，每个像素都由一个值表示。在灰度图中，每个像素由0~255表示，255表示白色，0表示黑色。在彩色图像中，像素由三个个基本色RBG值组合而成"
   ]
  },
  {
   "cell_type": "markdown",
   "metadata": {},
   "source": [
    "## 2 图像处理\n",
    "\n",
    "- 模糊：把每个像素的值，替换为周围8个像素的平均值，得到更模糊的图像\n",
    "- 锐化：反向扩大像素点与周围像素点的差异，得到更锐利的图像。继续进行锐化，图像将仅保留像素值的显著差异，只能看到图像中物体的边缘，可用于检测图像的角、边缘、线等"
   ]
  },
  {
   "cell_type": "markdown",
   "metadata": {},
   "source": [
    "## 3 OpenCV简介\n",
    "\n",
    "- 简述：OpenCV是一款面向计算机视觉的开源库，最常用的工具库，使用多种编程语言（C、C++、Python）编写，可在Inter硬件上加速，使用Inter芯片上特定的加速单元，加快视觉程序的运行速度，并兼容多种操作系统和平台，具有计算机视觉所需的大多数功能\n",
    "- 基本功能：图像的旋转、缩放、调整、过滤，查找边缘等操作\n",
    "- 高级功能：面部检测、特征识别等"
   ]
  },
  {
   "cell_type": "markdown",
   "metadata": {},
   "source": [
    "## 4 总结\n",
    "\n",
    "- 视频占互联网流量的80%\n",
    "- 视频是一系列连续的图像，这些图像的移动速度足够快，让我们的眼睛看到了平滑连续的视觉效果\n",
    "- 图像是多个像素组成的阵列，每个像素都有强度级或由RGB共同组成\n",
    "- 可以操控像素来模糊、锐化图像或执行其他任务\n",
    "- 可以检测图像中的特征，查找图像中的边缘、线、角，并由此查找真实图像\n",
    "- OpenCV是一款用于加速计算机视觉的Inter软件，是视觉领域最常用的库，并可以轻松地在Inter硬件上加速\n",
    "- OpenCV已包含在OpenVINO中"
   ]
  }
 ],
 "metadata": {
  "kernelspec": {
   "display_name": "Python 3 (ipykernel)",
   "language": "python",
   "name": "python3"
  },
  "language_info": {
   "codemirror_mode": {
    "name": "ipython",
    "version": 3
   },
   "file_extension": ".py",
   "mimetype": "text/x-python",
   "name": "python",
   "nbconvert_exporter": "python",
   "pygments_lexer": "ipython3",
   "version": "3.7.9"
  }
 },
 "nbformat": 4,
 "nbformat_minor": 1
}
