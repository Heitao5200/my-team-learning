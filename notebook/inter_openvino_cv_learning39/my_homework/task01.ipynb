{
 "cells": [
  {
   "cell_type": "markdown",
   "metadata": {
    "collapsed": true
   },
   "source": [
    "# Task01 我们为什么需要人工智能"
   ]
  },
  {
   "cell_type": "markdown",
   "metadata": {},
   "source": [
    "## 1 课程介绍\n",
    "\n",
    "- 课程目标：了解人工智能和OpenVINO的工具套件，为AI应用选择最佳的Inter平台，并使用Inter产品构建AI应用\n",
    "- 课程内容：\n",
    "  1. 初级课程：从零开始讲解所有AI的应备知识、相关技术、Inter为每种应用场景推荐的平台和软件工具\n",
    "  2. 中级课程：深入了解OpenVINO的工具套件，讲解演示OpenVINO，练习所有的可用的工具\n",
    "  3. 高级课程：介绍使用Inter平台和工具，在系统层面构建实际可扩展的AI产品"
   ]
  },
  {
   "cell_type": "markdown",
   "metadata": {},
   "source": [
    "## 2 初级课程安排"
   ]
  },
  {
   "cell_type": "markdown",
   "metadata": {},
   "source": [
    "&emsp;&emsp;总共分为10节课程，内容如下：\n",
    "- 介绍需要人工智能的原因和需要哪些技术\n",
    "- 介绍计算机视觉和AI，\n",
    "- 讲解现在的电脑如何高效地执行AI\n",
    "- 演示通过Inter OpenVINO工具套件能够完成的多项工作\n",
    "- 概述设计AI应用的完整流程"
   ]
  },
  {
   "cell_type": "markdown",
   "metadata": {},
   "source": [
    "## 3 OpenVINO套件简述"
   ]
  },
  {
   "cell_type": "markdown",
   "metadata": {},
   "source": [
    "&emsp;&emsp;OpenVINO套件，开放视觉推理和神经网络优化的工具集，全称`Open Visual inference and neural netwaork Optimization`，是一整套面向AI应用的Inter解决方案，本课程内容主要对组件进行概括性介绍，演示运行相关组件；它是一款免费软件，提供大量的开源资源，包括应用示例和场景演示等。"
   ]
  },
  {
   "cell_type": "markdown",
   "metadata": {},
   "source": [
    "## 4 总结\n",
    "\n",
    "- AI是我们管理物联网收集的海量数据的唯一方法\n",
    "- AI将彻底改变我们的未来，可能是构建智能系统的最佳方法\n",
    "- AI包含广泛的功能，在本次课程中，主要讲述视觉应用方面\n",
    "- 构建AI应用时，可能会遇到许多挑战\n",
    "- OpenVINO是Inter提供构建AI应用的工具套件，具有开源版本、免费、易使用，提供多种资源帮助使用"
   ]
  }
 ],
 "metadata": {
  "kernelspec": {
   "display_name": "Python 3 (ipykernel)",
   "language": "python",
   "name": "python3"
  },
  "language_info": {
   "codemirror_mode": {
    "name": "ipython",
    "version": 3
   },
   "file_extension": ".py",
   "mimetype": "text/x-python",
   "name": "python",
   "nbconvert_exporter": "python",
   "pygments_lexer": "ipython3",
   "version": "3.7.9"
  }
 },
 "nbformat": 4,
 "nbformat_minor": 1
}