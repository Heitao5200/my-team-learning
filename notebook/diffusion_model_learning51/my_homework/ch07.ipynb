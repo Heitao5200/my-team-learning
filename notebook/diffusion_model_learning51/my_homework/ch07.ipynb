{
 "cells": [
  {
   "cell_type": "markdown",
   "source": [
    "# 第7章 DDIM反转"
   ],
   "metadata": {
    "collapsed": false
   },
   "id": "77a8f608412ef338"
  }
 ],
 "metadata": {
  "kernelspec": {
   "display_name": "Python 3",
   "language": "python",
   "name": "python3"
  },
  "language_info": {
   "codemirror_mode": {
    "name": "ipython",
    "version": 2
   },
   "file_extension": ".py",
   "mimetype": "text/x-python",
   "name": "python",
   "nbconvert_exporter": "python",
   "pygments_lexer": "ipython2",
   "version": "2.7.6"
  }
 },
 "nbformat": 4,
 "nbformat_minor": 5
}
