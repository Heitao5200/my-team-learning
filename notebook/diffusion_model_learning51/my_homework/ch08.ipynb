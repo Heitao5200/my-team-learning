{
 "cells": [
  {
   "cell_type": "markdown",
   "source": [
    "# 第8章 音频扩散模型"
   ],
   "metadata": {
    "collapsed": false
   },
   "id": "e6a89019a863cc73"
  }
 ],
 "metadata": {
  "kernelspec": {
   "display_name": "Python 3",
   "language": "python",
   "name": "python3"
  },
  "language_info": {
   "codemirror_mode": {
    "name": "ipython",
    "version": 2
   },
   "file_extension": ".py",
   "mimetype": "text/x-python",
   "name": "python",
   "nbconvert_exporter": "python",
   "pygments_lexer": "ipython2",
   "version": "2.7.6"
  }
 },
 "nbformat": 4,
 "nbformat_minor": 5
}
