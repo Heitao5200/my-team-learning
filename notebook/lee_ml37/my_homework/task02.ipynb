{
 "cells": [
  {
   "cell_type": "markdown",
   "metadata": {
    "collapsed": true
   },
   "source": [
    "# Task02 回归"
   ]
  },
  {
   "cell_type": "markdown",
   "metadata": {},
   "source": [
    "## 1 回归定义和应用场景"
   ]
  },
  {
   "cell_type": "markdown",
   "metadata": {},
   "source": [
    " - 定义：  \n",
    "   **目标**：找到一个函数`function`  \n",
    "   **输入**：特征$x$  \n",
    "   **输出**：一个数值$scalar$  "
   ]
  },
  {
   "cell_type": "markdown",
   "metadata": {},
   "source": [
    "- 应用场景举例：股市预测、自动驾驶、商品推荐、Pokemon精灵攻击力预测"
   ]
  },
  {
   "cell_type": "markdown",
   "metadata": {},
   "source": [
    "## 2 模型构建步骤"
   ]
  },
  {
   "cell_type": "markdown",
   "metadata": {},
   "source": [
    "&emsp;&emsp;通过Pokemon精灵攻击力预测示例，介绍回归模型构建的主要步骤："
   ]
  },
  {
   "cell_type": "markdown",
   "metadata": {},
   "source": [
    "1. 模型假设，选择模型框架（线性模型）\n",
    "\n",
    "- 一元线性模型（单个特征）：CP值的单值特征\n",
    "\n",
    "- 多元线性模型（多个特征）：进化前的CP值、物种（Bulbasaur）、血量（HP）、重量（Weight）、高度（Height）等"
   ]
  },
  {
   "cell_type": "markdown",
   "metadata": {},
   "source": [
    "2. 模型评估，如何判断众多模型的好坏（损失函数）"
   ]
  },
  {
   "cell_type": "markdown",
   "metadata": {},
   "source": [
    "- 收集和查看训练数据：使用可视化的方式，将10组原始数据（进化前的CP值/进化后的CP值）进行展示"
   ]
  },
  {
   "cell_type": "markdown",
   "metadata": {},
   "source": [
    "- 判断众多模型的好坏：使用损失函数衡量模型的好坏，统计10组原始数据的平均误差，该值越小，模型越好\n",
    "$$\n",
    "L(w,b)= \\sum_{n=1}^{10}\\left ( \\hat{y}^n - (b + w·x_{cp}) \\right )^2\n",
    "$$"
   ]
  },
  {
   "cell_type": "markdown",
   "metadata": {},
   "source": [
    "3. 模型优化，如何筛选最优的模型（梯度下降）\n",
    "\n",
    "- 学习率：移动的步长\n",
    "- 选取最优值的步骤  \n",
    "（1）随机选取一个 $w^0$  \n",
    "（2）计算微分，也就是当前的斜率，根据斜率来判定移动的方向：大于0向右移动（增加$w$），小于0向左移动（减少$w$）  \n",
    "（3）根据学习率移动  \n",
    "（4）重复步骤2和步骤3，直到找到最低点 "
   ]
  },
  {
   "cell_type": "markdown",
   "metadata": {},
   "source": [
    "## 3 构建更强大复杂的模型：1元N次线性模型"
   ]
  },
  {
   "cell_type": "markdown",
   "metadata": {},
   "source": [
    "- 高次线性模型构建：通过逐步构建高次模型，比较平均误差"
   ]
  },
  {
   "cell_type": "markdown",
   "metadata": {},
   "source": [
    "- 优化步骤  \n",
    "（1）通过对Pokemons种类（Pidgey、Eevee、Caterpie、Weedie）判断，将4个线性模型合并到一个线性模型中；  \n",
    "（2）通过对特征的图形化分析，使用更多的特征（血量（HP）、重量（Weight）、高度（Height））加入到模型中；  \n",
    "（3）使用正则化，降低特征权值过高的问题。"
   ]
  },
  {
   "cell_type": "markdown",
   "metadata": {},
   "source": [
    "## 4 代码实战"
   ]
  },
  {
   "cell_type": "code",
   "execution_count": 3,
   "metadata": {},
   "outputs": [],
   "source": [
    "import numpy as np\n",
    "import matplotlib.pyplot as plt\n",
    "from pylab import mpl\n",
    "\n",
    "# matplotlib没有中文字体，动态解决\n",
    "# 显示中文\n",
    "plt.rcParams['font.sans-serif'] = ['Simhei']  \n",
    "# 解决保存图像是负号'-'显示为方块的问题\n",
    "mpl.rcParams['axes.unicode_minus'] = False  "
   ]
  },
  {
   "cell_type": "code",
   "execution_count": 4,
   "metadata": {},
   "outputs": [],
   "source": [
    "# 使用样例数据\n",
    "x_data = [338., 333., 328., 207., 226., 25., 179., 60., 208., 606.]\n",
    "y_data = [640., 633., 619., 393., 428., 27., 193., 66., 226., 1591.]\n",
    "x_d = np.asarray(x_data)\n",
    "y_d = np.asarray(y_data)"
   ]
  },
  {
   "cell_type": "code",
   "execution_count": 5,
   "metadata": {},
   "outputs": [],
   "source": [
    "# 绘制w,b的坐标轴\n",
    "x = np.arange(-200, -100, 1)\n",
    "y = np.arange(-5, 5, 0.1)\n",
    "Z = np.zeros((len(x), len(y)))\n",
    "X, Y = np.meshgrid(x, y)"
   ]
  },
  {
   "cell_type": "code",
   "execution_count": 6,
   "metadata": {},
   "outputs": [],
   "source": [
    "# loss\n",
    "for i in range(len(x)):\n",
    "    for j in range(len(y)):\n",
    "        b = x[i]\n",
    "        w = y[j]\n",
    "        Z[j][i] = 0  # meshgrid吐出结果：y为行，x为列\n",
    "        for n in range(len(x_data)):\n",
    "            Z[j][i] += (y_data[n] - b - w * x_data[n]) ** 2\n",
    "        Z[j][i] /= len(x_data)"
   ]
  },
  {
   "cell_type": "code",
   "execution_count": 27,
   "metadata": {},
   "outputs": [],
   "source": [
    "# linear regression\n",
    "b = -120\n",
    "w = -4\n",
    "lr = 1\n",
    "iteration = 1000000\n",
    "\n",
    "b_history = [b]\n",
    "w_history = [w]\n",
    "\n",
    "lr_b = 0\n",
    "lr_w = 0\n",
    "\n",
    "import time\n",
    "start = time.time()\n",
    "\n",
    "# 梯度下降\n",
    "for i in range(iteration):\n",
    "    b_grad = 0.0\n",
    "    w_grad = 0.0\n",
    "    for n in range(len(x_data)):\n",
    "        b_grad= b_grad - 2.0 * (y_data[n] - n - w*x_data[n]) * 1.0\n",
    "        w_grad= w_grad - 2.0 * (y_data[n] - n - w*x_data[n]) * x_data[n]\n",
    "    \n",
    "    lr_b = lr_b+b_grad**2\n",
    "    lr_w = lr_w+w_grad**2\n",
    "    \n",
    "    # 参数更新\n",
    "    b -= lr / np.sqrt(lr_b) * b_grad\n",
    "    w -= lr / np.sqrt(lr_w) * w_grad\n",
    "\n",
    "    b_history.append(b)\n",
    "    w_history.append(w)\n",
    "\n",
    "# 计算梯度下降时间    \n",
    "end = time.time()\n",
    "print(\"大约需要时间：\",end-start)"
   ]
  },
  {
   "cell_type": "code",
   "execution_count": 28,
   "metadata": {},
   "outputs": [
    {
     "data": {
      "image/png": "[encoded data removed]",
      "text/plain": [
       "<Figure size 432x288 with 1 Axes>"
      ]
     },
     "metadata": {
      "needs_background": "light"
     },
     "output_type": "display_data"
    }
   ],
   "source": [
    "# plot the figure\n",
    "plt.contourf(x, y, Z, 50, alpha=0.5, cmap=plt.get_cmap('jet'))  # 填充等高线\n",
    "plt.plot([-188.4], [2.67], 'x', ms=12, mew=3, color=\"orange\")\n",
    "plt.plot(b_history, w_history, 'o-', ms=3, lw=1.5, color='black')\n",
    "plt.xlim(-200, -100)\n",
    "plt.ylim(-5, 5)\n",
    "plt.xlabel(r'$b$')\n",
    "plt.ylabel(r'$w$')\n",
    "plt.title(\"线性回归\")\n",
    "plt.show()"
   ]
  },
  {
   "cell_type": "markdown",
   "metadata": {},
   "source": [
    "## 5 总结"
   ]
  },
  {
   "cell_type": "markdown",
   "metadata": {},
   "source": [
    "&emsp;&emsp;本次任务，主要介绍回归线性模型，使用Pokemon精灵攻击力预测示例，讲解模型构建步骤，包括模型假设、模型评估和模型优化，从单一特征的模型构建，到多个特征，逐步优化模型，最后通过示例数据，介绍线性回归的参数梯度下降，通过可视化图形，观察梯度下降过程。"
   ]
  }
 ],
 "metadata": {
  "kernelspec": {
   "display_name": "Python 3",
   "language": "python",
   "name": "python3"
  },
  "language_info": {
   "codemirror_mode": {
    "name": "ipython",
    "version": 3
   },
   "file_extension": ".py",
   "mimetype": "text/x-python",
   "name": "python",
   "nbconvert_exporter": "python",
   "pygments_lexer": "ipython3",
   "version": "3.7.9"
  }
 },
 "nbformat": 4,
 "nbformat_minor": 1
}
