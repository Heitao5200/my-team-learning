{
 "cells": [
  {
   "cell_type": "markdown",
   "id": "4a4c3d8b",
   "metadata": {
    "collapsed": true
   },
   "source": [
    "# Task03 单智能体开发"
   ]
  },
  {
   "cell_type": "code",
   "execution_count": null,
   "id": "422746e3",
   "metadata": {},
   "outputs": [],
   "source": []
  }
 ],
 "metadata": {
  "kernelspec": {
   "display_name": "Python 3 (ipykernel)",
   "language": "python",
   "name": "python3"
  },
  "language_info": {
   "codemirror_mode": {
    "name": "ipython",
    "version": 3
   },
   "file_extension": ".py",
   "mimetype": "text/x-python",
   "name": "python",
   "nbconvert_exporter": "python",
   "pygments_lexer": "ipython3",
   "version": "3.10.5"
  }
 },
 "nbformat": 4,
 "nbformat_minor": 5
}
