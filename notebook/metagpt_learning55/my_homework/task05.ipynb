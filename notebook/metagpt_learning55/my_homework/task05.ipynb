{
 "cells": [
  {
   "cell_type": "markdown",
   "id": "6edf202a",
   "metadata": {
    "collapsed": true
   },
   "source": [
    "# Task05 多智能体开发"
   ]
  },
  {
   "cell_type": "markdown",
   "id": "f2660666",
   "metadata": {},
   "source": [
    "## 1 多智能体组件"
   ]
  },
  {
   "cell_type": "markdown",
   "id": "c09e62f7",
   "metadata": {},
   "source": [
    "### 1.1 Environment介绍"
   ]
  },
  {
   "cell_type": "markdown",
   "id": "7d864831",
   "metadata": {},
   "source": [
    "- Environment：主要管理Agent的活动与信息交流。\n",
    "    - `desc`：环境描述\n",
    "    - `roles`：当前环境中的角色\n",
    "    - `members`：当前环境中的角色和对应的状态\n",
    "    - `history`：记录环境中发生的消息记录"
   ]
  },
  {
   "cell_type": "markdown",
   "id": "f3186ac1",
   "metadata": {},
   "source": [
    "- Environment的执行过程：\n",
    "    - 遍历所有的角色，按顺序执行`role`的方法。\n",
    "    - `role`根据运行时的消息，存入到`role_context`的`msg_buffer`中\n",
    "    - `role`的每次行动时，都先调用`_observe`接收消息，从缓冲区和其他源准备新消息进行处理，当未接收到指令时，`role`继续等待。\n",
    "    - `role`执行行动。\n",
    "    - 将`role`的执行结果发布到环境中。\n",
    "    - 遍历所有的角色，检查它们是否订阅了这条消息，如果订阅了，则将消息存入到`role`的`msg_buffer`中。"
   ]
  },
  {
   "cell_type": "markdown",
   "id": "cd8c49cf",
   "metadata": {},
   "source": [
    "### 1.2 实现一个简单的多智能体系统"
   ]
  },
  {
   "cell_type": "markdown",
   "id": "bd9a6127",
   "metadata": {},
   "source": [
    "- 项目背景：根据给定的主题，撰写一篇优美的英文诗。\n",
    "- 需求分析：接收用户的需求，学生关注到布置的题目后就会开始创作，当老师发现学生写作完成后就会给学生提出意见，根据老师给出的意见，学生将修改自己的作品，直到设定循环结束。"
   ]
  },
  {
   "cell_type": "code",
   "execution_count": 18,
   "id": "838d3d4c",
   "metadata": {},
   "outputs": [],
   "source": [
    "import asyncio\n",
    "\n",
    "from metagpt.actions import Action, UserRequirement\n",
    "from metagpt.const import MESSAGE_ROUTE_TO_ALL\n",
    "from metagpt.environment import Environment\n",
    "from metagpt.logs import logger\n",
    "from metagpt.roles import Role\n",
    "from metagpt.schema import Message"
   ]
  },
  {
   "cell_type": "code",
   "execution_count": 19,
   "id": "f47e48aa",
   "metadata": {},
   "outputs": [],
   "source": [
    "classroom = Environment()"
   ]
  },
  {
   "cell_type": "code",
   "execution_count": 20,
   "id": "2f1a5a02",
   "metadata": {},
   "outputs": [],
   "source": [
    "# 编写诗句，并根据老师的建议修改诗句\n",
    "class WritePoem(Action):\n",
    "    name: str = \"WritePoem\"\n",
    "\n",
    "    PROMPT_TEMPLATE: str = \"\"\"\n",
    "    Here is the historical conversation record : {msg} .\n",
    "    Write a poem about the subject provided by human, Return only the content of the generated poem with NO other texts.\n",
    "    If the teacher provides suggestions about the poem, revise the student's poem based on the suggestions and return.\n",
    "    your poem:\n",
    "    \"\"\"\n",
    "\n",
    "    async def run(self, msg: str):\n",
    "        prompt = self.PROMPT_TEMPLATE.format(msg=msg)\n",
    "\n",
    "        rsp = await self._aask(prompt)\n",
    "\n",
    "        return rsp"
   ]
  },
  {
   "cell_type": "code",
   "execution_count": 21,
   "id": "14fd521a",
   "metadata": {},
   "outputs": [],
   "source": [
    "# 读取诗歌作品，并给出修改意见\n",
    "class ReviewPoem(Action):\n",
    "    name: str = \"ReviewPoem\"\n",
    "\n",
    "    PROMPT_TEMPLATE: str = \"\"\"\n",
    "\n",
    "    Here is the historical conversation record : {msg} .\n",
    "    Check student-created poems about the subject provided by human and give your suggestions for revisions. You prefer poems with elegant sentences and retro style.\n",
    "    Return only your comments with NO other texts.\n",
    "    your comments:\n",
    "    \"\"\"\n",
    "\n",
    "    async def run(self, msg: str):\n",
    "        prompt = self.PROMPT_TEMPLATE.format(msg=msg)\n",
    "\n",
    "        rsp = await self._aask(prompt)\n",
    "\n",
    "        return rsp"
   ]
  },
  {
   "cell_type": "code",
   "execution_count": 22,
   "id": "c0c9c367",
   "metadata": {},
   "outputs": [],
   "source": [
    "# 定义学生角色\n",
    "class Student(Role):\n",
    "    name: str = \"xiaohong\"\n",
    "    profile: str = \"Student\"\n",
    "\n",
    "    def __init__(self, **kwargs):\n",
    "        super().__init__(**kwargs)\n",
    "        self._init_actions([WritePoem])\n",
    "        self._watch([UserRequirement, ReviewPoem])\n",
    "\n",
    "    async def _act(self) -> Message:\n",
    "        logger.info(f\"{self._setting}: ready to {self.rc.todo}\")\n",
    "        todo = self.rc.todo\n",
    "\n",
    "        msg = self.get_memories()  # 获取所有记忆\n",
    "        poem_text = await WritePoem().run(msg)\n",
    "        logger.info(f'student : {poem_text}')\n",
    "        msg = Message(content=poem_text, role=self.profile,\n",
    "                      cause_by=type(todo))\n",
    "\n",
    "        return msg"
   ]
  },
  {
   "cell_type": "code",
   "execution_count": 23,
   "id": "b22650ef",
   "metadata": {},
   "outputs": [],
   "source": [
    "# 定义老师角色\n",
    "class Teacher(Role):\n",
    "    name: str = \"wanglaoshi\"\n",
    "    profile: str = \"Teacher\"\n",
    "\n",
    "    def __init__(self, **kwargs):\n",
    "        super().__init__(**kwargs)\n",
    "        self._init_actions([ReviewPoem])\n",
    "        self._watch([WritePoem])\n",
    "\n",
    "    async def _act(self) -> Message:\n",
    "        logger.info(f\"{self._setting}: ready to {self.rc.todo}\")\n",
    "        todo = self.rc.todo\n",
    "\n",
    "        msg = self.get_memories()  # 获取所有记忆\n",
    "        poem_text = await ReviewPoem().run(msg)\n",
    "        logger.info(f'teacher : {poem_text}')\n",
    "        msg = Message(content=poem_text, role=self.profile,\n",
    "                      cause_by=type(todo))\n",
    "\n",
    "        return msg"
   ]
  },
  {
   "cell_type": "code",
   "execution_count": 24,
   "id": "de2ee2a0",
   "metadata": {},
   "outputs": [],
   "source": [
    "async def main(topic: str, n_round=3):\n",
    "    classroom.add_roles([Student(), Teacher()])\n",
    "\n",
    "    classroom.publish_message(\n",
    "        Message(role=\"Human\", content=topic, cause_by=UserRequirement,\n",
    "                send_to='' or MESSAGE_ROUTE_TO_ALL),\n",
    "        peekable=False,\n",
    "    )\n",
    "\n",
    "    while n_round > 0:\n",
    "        n_round -= 1\n",
    "        logger.debug(f\"max {n_round=} left.\")\n",
    "\n",
    "        await classroom.run()"
   ]
  },
  {
   "cell_type": "code",
   "execution_count": 28,
   "id": "ca9f5c28",
   "metadata": {
    "scrolled": false
   },
   "outputs": [
    {
     "name": "stderr",
     "output_type": "stream",
     "text": [
      "2024-03-01 20:07:34.948 | INFO     | metagpt.config:get_default_llm_provider_enum:126 - API: LLMProviderEnum.ZHIPUAI\n",
      "2024-03-01 20:07:34.949 | INFO     | metagpt.config:get_default_llm_provider_enum:126 - API: LLMProviderEnum.ZHIPUAI\n",
      "2024-03-01 20:07:34.951 | INFO     | __main__:_act:12 - xiaohong(Student): ready to WritePoem\n",
      "2024-03-01 20:07:34.952 | INFO     | metagpt.config:get_default_llm_provider_enum:126 - API: LLMProviderEnum.ZHIPUAI\n"
     ]
    },
    {
     "name": "stdout",
     "output_type": "stream",
     "text": [
      " When the sun departs, and darkness falls,\n",
      "A celestial gem adorns thealls.\n",
      "The moon, with its radiant glow,\n",
      "Dances upon the night's velvet show.\n",
      "\n",
      "A silver disk, forever bright,\n",
      "It guides our steps along the light.\n",
      "The lunar phases, like a symphony,\n",
      "Ebb and flow, in harmony.\n",
      "\n",
      "In the stillness of the night,\n",
      "The moon's embrace enchants and delights.\n",
      "Its ethereal beams, a mistress's touch,\n",
      "Bestow upon us dreams and mystic truce.\n",
      "\n",
      "A beacon in the darkest hours,\n",
      "The moon's eternal light illuminates our souls.\n",
      "As we gaze upon its radiant face,\n",
      "We find within ourselves a guiding grace.\n",
      "\n",
      "Oh, moon of mine, eternal companion,\n",
      "Guide me through the seasons' dance and passion.\n",
      "With your silent song, inspire my heart,\n",
      "To love, to dream, and seek the truth within.\n",
      "\n",
      "In the realm of night, you reign supreme,\n",
      "A symbol of beauty, love, and harmony.\n",
      "The moon, a constant in our lives,\n",
      "Eternal, just like the mysteries of time"
     ]
    },
    {
     "name": "stderr",
     "output_type": "stream",
     "text": [
      "2024-03-01 20:07:49.435 | INFO     | metagpt.utils.cost_manager:update_cost:48 - Total running cost: $0.004 | Max budget: $10.000 | Current cost: $0.000, prompt_tokens: 78, completion_tokens: 264\n",
      "2024-03-01 20:07:49.435 | INFO     | __main__:_act:17 - student :  When the sun departs, and darkness falls,\n",
      "A celestial gem adorns thealls.\n",
      "The moon, with its radiant glow,\n",
      "Dances upon the night's velvet show.\n",
      "\n",
      "A silver disk, forever bright,\n",
      "It guides our steps along the light.\n",
      "The lunar phases, like a symphony,\n",
      "Ebb and flow, in harmony.\n",
      "\n",
      "In the stillness of the night,\n",
      "The moon's embrace enchants and delights.\n",
      "Its ethereal beams, a mistress's touch,\n",
      "Bestow upon us dreams and mystic truce.\n",
      "\n",
      "A beacon in the darkest hours,\n",
      "The moon's eternal light illuminates our souls.\n",
      "As we gaze upon its radiant face,\n",
      "We find within ourselves a guiding grace.\n",
      "\n",
      "Oh, moon of mine, eternal companion,\n",
      "Guide me through the seasons' dance and passion.\n",
      "With your silent song, inspire my heart,\n",
      "To love, to dream, and seek the truth within.\n",
      "\n",
      "In the realm of night, you reign supreme,\n",
      "A symbol of beauty, love, and harmony.\n",
      "The moon, a constant in our lives,\n",
      "Eternal, just like the mysteries of time.\n",
      "2024-03-01 20:07:49.438 | INFO     | __main__:_act:12 - wanglaoshi(Teacher): ready to ReviewPoem\n",
      "2024-03-01 20:07:49.438 | INFO     | metagpt.config:get_default_llm_provider_enum:126 - API: LLMProviderEnum.ZHIPUAI\n"
     ]
    },
    {
     "name": "stdout",
     "output_type": "stream",
     "text": [
      ". 1. Excellent use of metaphors and personification to describe the moon's beauty and significance.\n",
      "2. The poem's structure and rhyme scheme are consistent and pleasing to the ear.\n",
      "3. The lunar phases mentioned add depth and astronomical accuracy to the poem.\n",
      "4. The poem captures the moon's enchanting presence and its role as a guide and source of inspiration.\n",
      "5. The retro style is evident in the use of descriptive words and phrases, such as \"celestial gem,\" \"silver disk,\" and \"ethereal beams.\"\n",
      "6. Suggestions for revisions:\n",
      "   a. Consider adding more intricate language to emphasize the retro style, such as \"lunar orb\" instead of \"moon\" and \"nocturnal navel\" instead of \"night's velvet show.\"\n",
      "   b. To create a more profound connection between the moon and the human soul, you may want to emphasize the moon's mystical qualities, such as its ability to inspire introspection and self-discovery.\n",
      "   c. To add a touch of elegance, you could replace \"bestow upon us\" with \"impart\" or \"confer.\"\n",
      "   d. To make the final stanza more powerful, consider using a more assertive tone to emphasize the moon's reign and its role as a symbol of beauty, love, and harmony.\n",
      "\n",
      "Overall, the poem is beautifully written and captures the essence of the moon's mystique and allure. Minor revisions can further enhance its elegance and retro style."
     ]
    },
    {
     "name": "stderr",
     "output_type": "stream",
     "text": [
      "2024-03-01 20:08:07.090 | INFO     | metagpt.utils.cost_manager:update_cost:48 - Total running cost: $0.004 | Max budget: $10.000 | Current cost: $0.000, prompt_tokens: 357, completion_tokens: 331\n",
      "2024-03-01 20:08:07.091 | INFO     | __main__:_act:17 - teacher :  1. Excellent use of metaphors and personification to describe the moon's beauty and significance.\n",
      "2. The poem's structure and rhyme scheme are consistent and pleasing to the ear.\n",
      "3. The lunar phases mentioned add depth and astronomical accuracy to the poem.\n",
      "4. The poem captures the moon's enchanting presence and its role as a guide and source of inspiration.\n",
      "5. The retro style is evident in the use of descriptive words and phrases, such as \"celestial gem,\" \"silver disk,\" and \"ethereal beams.\"\n",
      "6. Suggestions for revisions:\n",
      "   a. Consider adding more intricate language to emphasize the retro style, such as \"lunar orb\" instead of \"moon\" and \"nocturnal navel\" instead of \"night's velvet show.\"\n",
      "   b. To create a more profound connection between the moon and the human soul, you may want to emphasize the moon's mystical qualities, such as its ability to inspire introspection and self-discovery.\n",
      "   c. To add a touch of elegance, you could replace \"bestow upon us\" with \"impart\" or \"confer.\"\n",
      "   d. To make the final stanza more powerful, consider using a more assertive tone to emphasize the moon's reign and its role as a symbol of beauty, love, and harmony.\n",
      "\n",
      "Overall, the poem is beautifully written and captures the essence of the moon's mystique and allure. Minor revisions can further enhance its elegance and retro style.\n",
      "2024-03-01 20:08:07.093 | INFO     | __main__:_act:12 - xiaohong(Student): ready to WritePoem\n",
      "2024-03-01 20:08:07.094 | INFO     | metagpt.config:get_default_llm_provider_enum:126 - API: LLMProviderEnum.ZHIPUAI\n"
     ]
    },
    {
     "name": "stdout",
     "output_type": "stream",
     "text": [
      " When the sun departs, and darkness falls,\n",
      "A lunar orb adorns the nightly halls.\n",
      "The lunar phases, like a symphony,\n",
      "Ebb and flow, in cosmic harmony.\n",
      "\n",
      "A silvery disk, forever bright,\n",
      "It guides our steps along the spectral light.\n",
      "In the stillness of the night,\n",
      "The moon's embrace enchants and delights.\n",
      "\n",
      "Its ethereal beams, a mistress's touch,\n",
      "Impart upon us dreams and mystic truce.\n",
      "A beacon in the darkest hours,\n",
      "The moon's eternal light illumines our souls.\n",
      "\n",
      "As we gaze upon its radiant face,\n",
      "We find within ourselves a guiding grace.\n",
      "Oh, lunar orb, eternal companion,\n",
      "Guide me through the seasons' dance and passion.\n",
      "\n",
      "With your silent song, inspire my heart,\n",
      "To love, to dream, and seek the truth within.\n",
      "In the realm of night, you reign supreme,\n",
      "A symbol of beauty, love, and harmony.\n",
      "\n",
      "The moon, a constant in our lives,\n",
      "Eternal, just like the mysteries of time."
     ]
    },
    {
     "name": "stderr",
     "output_type": "stream",
     "text": [
      "2024-03-01 20:08:20.367 | INFO     | metagpt.utils.cost_manager:update_cost:48 - Total running cost: $0.004 | Max budget: $10.000 | Current cost: $0.000, prompt_tokens: 721, completion_tokens: 245\n",
      "2024-03-01 20:08:20.368 | INFO     | __main__:_act:17 - student :  When the sun departs, and darkness falls,\n",
      "A lunar orb adorns the nightly halls.\n",
      "The lunar phases, like a symphony,\n",
      "Ebb and flow, in cosmic harmony.\n",
      "\n",
      "A silvery disk, forever bright,\n",
      "It guides our steps along the spectral light.\n",
      "In the stillness of the night,\n",
      "The moon's embrace enchants and delights.\n",
      "\n",
      "Its ethereal beams, a mistress's touch,\n",
      "Impart upon us dreams and mystic truce.\n",
      "A beacon in the darkest hours,\n",
      "The moon's eternal light illumines our souls.\n",
      "\n",
      "As we gaze upon its radiant face,\n",
      "We find within ourselves a guiding grace.\n",
      "Oh, lunar orb, eternal companion,\n",
      "Guide me through the seasons' dance and passion.\n",
      "\n",
      "With your silent song, inspire my heart,\n",
      "To love, to dream, and seek the truth within.\n",
      "In the realm of night, you reign supreme,\n",
      "A symbol of beauty, love, and harmony.\n",
      "\n",
      "The moon, a constant in our lives,\n",
      "Eternal, just like the mysteries of time.\n"
     ]
    }
   ],
   "source": [
    "await main(topic='write a poem about moon')"
   ]
  },
  {
   "cell_type": "markdown",
   "id": "327ea097",
   "metadata": {},
   "source": [
    "### 1.3 Team介绍"
   ]
  },
  {
   "cell_type": "markdown",
   "id": "4f9a7e47",
   "metadata": {},
   "source": [
    "- Team：基于Environment之上的二次封装。\n",
    "    - `investment`：用于管理团队成本（限制token消费）"
   ]
  },
  {
   "cell_type": "markdown",
   "id": "28a4bcf4",
   "metadata": {},
   "source": [
    "- Team主要方法：\n",
    "    - `hire`：用于在团队中添加员工。\n",
    "    - `invest`：控制预算。"
   ]
  },
  {
   "cell_type": "markdown",
   "id": "a62c79cb",
   "metadata": {},
   "source": [
    "- Team的执行过程：调用`run_project`方法，给智能体们一个需求，在`n_round`循环中，重复检查预算和运行的`env`，最后返回环境中角色的历史对话。"
   ]
  },
  {
   "cell_type": "markdown",
   "id": "4ad26d09",
   "metadata": {},
   "source": [
    "### 1.4 基于Team实现一个智能体团队"
   ]
  },
  {
   "cell_type": "markdown",
   "id": "eb778af3",
   "metadata": {},
   "source": [
    "**实现步骤：**\n",
    "1. 定义每个角色能够执行的预期动作。\n",
    "2. 基于标准作业程序（SOP），确保每个角色遵守。每个角色需要观察上游输出结果，并为下游发布自己的输出结果。\n",
    "3. 初始化所有角色，创建一个带有环境的智能体团队，并使它们之间能够进行交互。"
   ]
  },
  {
   "cell_type": "markdown",
   "id": "685f58e0",
   "metadata": {},
   "source": [
    "**角色定义：**\n",
    "- `SimpleCoder`：接收用户的需求，编写主要代码。\n",
    "- `SimpleTester`：获取主代码并，为其提供测试用例。\n",
    "- `SimpleReviewer`：审查测试用例，检查其覆盖范围和质量。"
   ]
  },
  {
   "cell_type": "code",
   "execution_count": 29,
   "id": "f8c52d43",
   "metadata": {},
   "outputs": [],
   "source": [
    "import re\n",
    "\n",
    "import fire\n",
    "from metagpt.actions import Action, UserRequirement\n",
    "from metagpt.logs import logger\n",
    "from metagpt.roles import Role\n",
    "from metagpt.schema import Message\n",
    "from metagpt.team import Team"
   ]
  },
  {
   "cell_type": "code",
   "execution_count": 30,
   "id": "caf1c7be",
   "metadata": {},
   "outputs": [],
   "source": [
    "def parse_code(rsp):\n",
    "    pattern = r\"```python(.*)```\"\n",
    "    match = re.search(pattern, rsp, re.DOTALL)\n",
    "    code_text = match.group(1) if match else rsp\n",
    "    return code_text"
   ]
  },
  {
   "cell_type": "code",
   "execution_count": 31,
   "id": "34fc13cf",
   "metadata": {},
   "outputs": [],
   "source": [
    "class SimpleWriteCode(Action):\n",
    "    PROMPT_TEMPLATE: str = \"\"\"\n",
    "    Write a python function that can {instruction}.\n",
    "    Return ```python``` with NO other texts,\n",
    "    your code:\n",
    "    \"\"\"\n",
    "    name: str = \"SimpleWriteCode\"\n",
    "\n",
    "    async def run(self, instruction: str):\n",
    "        prompt = self.PROMPT_TEMPLATE.format(instruction=instruction)\n",
    "\n",
    "        rsp = await self._aask(prompt)\n",
    "\n",
    "        code_text = parse_code(rsp)\n",
    "\n",
    "        return code_text"
   ]
  },
  {
   "cell_type": "code",
   "execution_count": 32,
   "id": "678020b2",
   "metadata": {},
   "outputs": [],
   "source": [
    "class SimpleWriteTest(Action):\n",
    "    PROMPT_TEMPLATE: str = \"\"\"\n",
    "    Context: {context}\n",
    "    Write {k} unit tests using pytest for the given function, assuming you have imported it.\n",
    "    Return ```python``` with NO other texts,\n",
    "    your code:\n",
    "    \"\"\"\n",
    "\n",
    "    name: str = \"SimpleWriteTest\"\n",
    "\n",
    "    async def run(self, context: str, k: int = 3):\n",
    "        prompt = self.PROMPT_TEMPLATE.format(context=context, k=k)\n",
    "\n",
    "        rsp = await self._aask(prompt)\n",
    "\n",
    "        code_text = parse_code(rsp)\n",
    "\n",
    "        return code_text"
   ]
  },
  {
   "cell_type": "code",
   "execution_count": 33,
   "id": "e61df5d7",
   "metadata": {},
   "outputs": [],
   "source": [
    "class SimpleWriteReview(Action):\n",
    "    PROMPT_TEMPLATE: str = \"\"\"\n",
    "    Context: {context}\n",
    "    Review the test cases and provide one critical comments:\n",
    "    \"\"\"\n",
    "\n",
    "    name: str = \"SimpleWriteReview\"\n",
    "\n",
    "    async def run(self, context: str):\n",
    "        prompt = self.PROMPT_TEMPLATE.format(context=context)\n",
    "\n",
    "        rsp = await self._aask(prompt)\n",
    "\n",
    "        return rsp"
   ]
  },
  {
   "cell_type": "code",
   "execution_count": 34,
   "id": "8fdc3fa4",
   "metadata": {},
   "outputs": [],
   "source": [
    "class SimpleCoder(Role):\n",
    "    name: str = \"Alice\"\n",
    "    profile: str = \"SimpleCoder\"\n",
    "\n",
    "    def __init__(self, **kwargs):\n",
    "        super().__init__(**kwargs)\n",
    "        self._watch([UserRequirement])\n",
    "        self._init_actions([SimpleWriteCode])"
   ]
  },
  {
   "cell_type": "code",
   "execution_count": 35,
   "id": "aadc4f9a",
   "metadata": {},
   "outputs": [],
   "source": [
    "class SimpleTester(Role):\n",
    "    name: str = \"Bob\"\n",
    "    profile: str = \"SimpleTester\"\n",
    "\n",
    "    def __init__(self, **kwargs):\n",
    "        super().__init__(**kwargs)\n",
    "        self._init_actions([SimpleWriteTest])\n",
    "        self._watch([SimpleWriteCode, SimpleWriteReview])  # feel free to try this too\n",
    "\n",
    "    async def _act(self) -> Message:\n",
    "        logger.info(f\"{self._setting}: to do {self.rc.todo}({self.rc.todo.name})\")\n",
    "        todo = self.rc.todo\n",
    "\n",
    "        context = self.get_memories()  # use all memories as context\n",
    "\n",
    "        code_text = await todo.run(context, k=5)  # specify arguments\n",
    "        msg = Message(content=code_text, role=self.profile, cause_by=type(todo))\n",
    "\n",
    "        return msg"
   ]
  },
  {
   "cell_type": "code",
   "execution_count": 36,
   "id": "1dcdf12f",
   "metadata": {},
   "outputs": [],
   "source": [
    "class SimpleReviewer(Role):\n",
    "    name: str = \"Charlie\"\n",
    "    profile: str = \"SimpleReviewer\"\n",
    "\n",
    "    def __init__(self, **kwargs):\n",
    "        super().__init__(**kwargs)\n",
    "        self._init_actions([SimpleWriteReview])\n",
    "        self._watch([SimpleWriteTest])"
   ]
  },
  {
   "cell_type": "code",
   "execution_count": 37,
   "id": "c5ab684f",
   "metadata": {},
   "outputs": [],
   "source": [
    "async def main(\n",
    "        idea: str = \"write a function that calculates the product of a list\",\n",
    "        investment: float = 3.0,\n",
    "        n_round: int = 5,\n",
    "        add_human: bool = False,\n",
    "):\n",
    "    logger.info(idea)\n",
    "\n",
    "    team = Team()\n",
    "    team.hire(\n",
    "        [\n",
    "            SimpleCoder(),\n",
    "            SimpleTester(),\n",
    "            SimpleReviewer(is_human=add_human),\n",
    "        ]\n",
    "    )\n",
    "\n",
    "    team.invest(investment=investment)\n",
    "    team.run_project(idea)\n",
    "    await team.run(n_round=n_round)"
   ]
  },
  {
   "cell_type": "code",
   "execution_count": 39,
   "id": "ebd90f09",
   "metadata": {
    "scrolled": false
   },
   "outputs": [
    {
     "name": "stderr",
     "output_type": "stream",
     "text": [
      "2024-03-01 21:02:19.002 | INFO     | __main__:main:7 - write a function that calculates the product of a list\n",
      "2024-03-01 21:02:19.003 | INFO     | metagpt.config:get_default_llm_provider_enum:126 - API: LLMProviderEnum.ZHIPUAI\n",
      "2024-03-01 21:02:19.004 | INFO     | metagpt.config:get_default_llm_provider_enum:126 - API: LLMProviderEnum.ZHIPUAI\n",
      "2024-03-01 21:02:19.005 | INFO     | metagpt.config:get_default_llm_provider_enum:126 - API: LLMProviderEnum.ZHIPUAI\n",
      "2024-03-01 21:02:19.006 | INFO     | metagpt.team:invest:86 - Investment: $3.0.\n",
      "2024-03-01 21:02:19.008 | INFO     | metagpt.roles.role:_act:357 - Alice(SimpleCoder): to do SimpleWriteCode(SimpleWriteCode)\n"
     ]
    },
    {
     "name": "stdout",
     "output_type": "stream",
     "text": [
      " def product_of_list(lst):\n",
      "    return reduce(lambda x, y: x * y, lst)\n",
      "\n",
      "# Example usage:\n",
      "lst = [2, 3, 4, 5]\n",
      "result = product_of_list(lst)\n",
      "print(result)  # Output: 120"
     ]
    },
    {
     "name": "stderr",
     "output_type": "stream",
     "text": [
      "2024-03-01 21:02:23.326 | INFO     | metagpt.utils.cost_manager:update_cost:48 - Total running cost: $0.004 | Max budget: $10.000 | Current cost: $0.000, prompt_tokens: 43, completion_tokens: 74\n",
      "2024-03-01 21:02:23.329 | INFO     | __main__:_act:11 - Bob(SimpleTester): to do SimpleWriteTest(SimpleWriteTest)\n"
     ]
    },
    {
     "name": "stdout",
     "output_type": "stream",
     "text": [
      " ```python\n",
      "import pytest\n",
      "from simple_coder import product_of_list\n",
      "\n",
      "def test_product_of_list():\n",
      "    assert product_of_list([2, 3, 4, 5]) == 120\n",
      "    assert product_of_list([1, 2, 3, 4, 5]) == 120\n",
      "    assert product_of_list([-2, 3, 4, -5]) == -120\n",
      "    assert product_of_list([1, 1, 1, 1, 1]) == 1\n",
      "    assert product_of_list([]) == 1\n",
      "\n",
      "def test_negative_numbers():\n",
      "    with pytest.raises(ValueError):\n",
      "        product_of_list([-2, 3, 4, 5])\n",
      "\n",
      "def test_empty_list():\n",
      "    with pytest.raises(ValueError):\n",
      "        product_of_list([])\n",
      "\n",
      "def test_non_numbers():\n",
      "    with pytest.raises(TypeError):\n",
      "        product_of_list([2, \"three\", 4, 5])\n",
      "\n",
      "def test_float_numbers():\n",
      "    with pytest.raises(TypeError):\n",
      "        product_of_list([2.5, 3.5, 4.5, 5.5])\n",
      "```"
     ]
    },
    {
     "name": "stderr",
     "output_type": "stream",
     "text": [
      "2024-03-01 21:02:39.592 | INFO     | metagpt.utils.cost_manager:update_cost:48 - Total running cost: $0.004 | Max budget: $10.000 | Current cost: $0.000, prompt_tokens: 136, completion_tokens: 316\n",
      "2024-03-01 21:02:39.595 | INFO     | metagpt.roles.role:_act:357 - Charlie(SimpleReviewer): to do SimpleWriteReview(SimpleWriteReview)\n"
     ]
    },
    {
     "name": "stdout",
     "output_type": "stream",
     "text": [
      " Critical Comment: The test cases provided cover a variety of scenarios, including positive and negative numbers, empty lists, and non-number elements. However, they do not seem to cover the case where the input list contains only zeroes. It would be beneficial to add a test case for this scenario to ensure that the function behaves correctly when the product of the list is zero. Additionally, it would be useful to test the behavior of the function when the input list contains mixed types of numbers (e.g., integers and floats) to further validate its functionality."
     ]
    },
    {
     "name": "stderr",
     "output_type": "stream",
     "text": [
      "2024-03-01 21:02:45.925 | INFO     | metagpt.utils.cost_manager:update_cost:48 - Total running cost: $0.004 | Max budget: $10.000 | Current cost: $0.000, prompt_tokens: 422, completion_tokens: 115\n",
      "2024-03-01 21:02:45.928 | INFO     | __main__:_act:11 - Bob(SimpleTester): to do SimpleWriteTest(SimpleWriteTest)\n"
     ]
    },
    {
     "name": "stdout",
     "output_type": "stream",
     "text": [
      " ```python\n",
      "import pytest\n",
      "from simple_coder import product_of_list\n",
      "\n",
      "def test_product_of_list():\n",
      "    assert product_of_list([2, 3, 4, 5]) == 120\n",
      "    assert product_of_list([1, 2, 3, 4, 5]) == 120\n",
      "    assert product_of_list([-2, 3, 4, -5]) == -120\n",
      "    assert product_of_list([1, 1, 1, 1, 1]) == 1\n",
      "    assert product_of_list([]) == 1\n",
      "\n",
      "def test_zero_product():\n",
      "    assert product_of_list([0, 0, 0, 0]) == 0\n",
      "\n",
      "def test_negative_numbers():\n",
      "    with pytest.raises(ValueError):\n",
      "        product_of_list([-2, 3, 4, 5])\n",
      "\n",
      "def test_empty_list():\n",
      "    with pytest.raises(ValueError):\n",
      "        product_of_list([])\n",
      "\n",
      "def test_non_numbers():\n",
      "    with pytest.raises(TypeError):\n",
      "        product_of_list([2, \"three\", 4, 5])\n",
      "\n",
      "def test_float_numbers():\n",
      "    with pytest.raises(TypeError):\n",
      "        product_of_list([2.5, 3.5, 4.5, 5.5])\n",
      "```"
     ]
    },
    {
     "name": "stderr",
     "output_type": "stream",
     "text": [
      "2024-03-01 21:03:04.995 | INFO     | metagpt.utils.cost_manager:update_cost:48 - Total running cost: $0.005 | Max budget: $10.000 | Current cost: $0.000, prompt_tokens: 569, completion_tokens: 348\n",
      "2024-03-01 21:03:04.998 | INFO     | metagpt.roles.role:_act:357 - Charlie(SimpleReviewer): to do SimpleWriteReview(SimpleWriteReview)\n"
     ]
    },
    {
     "name": "stdout",
     "output_type": "stream",
     "text": [
      " Critical Comment: The test cases provided cover a variety of scenarios, including positive and negative numbers, empty lists, and non-number elements. However, they do not seem to cover the case where the input list contains only zeroes. It would be beneficial to add a test case for this scenario to ensure that the function behaves correctly when the product of the list is zero. Additionally, it would be useful to test the behavior of the function when the input list contains mixed types of numbers (e.g., integers and floats) to further validate its functionality."
     ]
    },
    {
     "name": "stderr",
     "output_type": "stream",
     "text": [
      "2024-03-01 21:03:11.699 | INFO     | metagpt.utils.cost_manager:update_cost:48 - Total running cost: $0.005 | Max budget: $10.000 | Current cost: $0.000, prompt_tokens: 887, completion_tokens: 115\n"
     ]
    }
   ],
   "source": [
    "await main()"
   ]
  },
  {
   "cell_type": "markdown",
   "id": "c9af13ec",
   "metadata": {},
   "source": [
    "## 2 多智能体案例：辩论"
   ]
  },
  {
   "cell_type": "code",
   "execution_count": 40,
   "id": "0c90d9ff",
   "metadata": {},
   "outputs": [],
   "source": [
    "import fire\n",
    "from metagpt.actions import Action, UserRequirement\n",
    "from metagpt.logs import logger\n",
    "from metagpt.roles import Role\n",
    "from metagpt.schema import Message\n",
    "from metagpt.team import Team"
   ]
  },
  {
   "cell_type": "markdown",
   "id": "5cfaaa40",
   "metadata": {},
   "source": [
    "### 2.1 定义动作"
   ]
  },
  {
   "cell_type": "code",
   "execution_count": 41,
   "id": "bb8890b5",
   "metadata": {},
   "outputs": [],
   "source": [
    "class SpeakAloud(Action):\n",
    "    \"\"\"Action: Speak out aloud in a debate (quarrel)\"\"\"\n",
    "\n",
    "    PROMPT_TEMPLATE: str = \"\"\"\n",
    "    ## BACKGROUND\n",
    "    Suppose you are {name}, you are in a debate with {opponent_name}.\n",
    "    ## DEBATE HISTORY\n",
    "    Previous rounds:\n",
    "    {context}\n",
    "    ## YOUR TURN\n",
    "    Now it's your turn, you should closely respond to your opponent's latest argument, state your position, \n",
    "    defend your arguments, and attack your opponent's arguments,\n",
    "    craft a strong and emotional response in 80 words, in {name}'s rhetoric and viewpoints, your will argue:\n",
    "    \"\"\"\n",
    "    name: str = \"SpeakAloud\"\n",
    "\n",
    "    async def run(self, context: str, name: str, opponent_name: str):\n",
    "        prompt = self.PROMPT_TEMPLATE.format(context=context, name=name, opponent_name=opponent_name)\n",
    "\n",
    "        rsp = await self._aask(prompt)\n",
    "\n",
    "        return rsp"
   ]
  },
  {
   "cell_type": "markdown",
   "id": "06244bd8",
   "metadata": {},
   "source": [
    "### 2.2 定义角色"
   ]
  },
  {
   "cell_type": "code",
   "execution_count": 42,
   "id": "9685d4bc",
   "metadata": {},
   "outputs": [],
   "source": [
    "class Debater(Role):\n",
    "    name: str = \"\"\n",
    "    profile: str = \"\"\n",
    "    opponent_name: str = \"\"\n",
    "\n",
    "    def __init__(self, **data):\n",
    "        super().__init__(**data)\n",
    "        self._init_actions([SpeakAloud])\n",
    "        self._watch([UserRequirement, SpeakAloud])\n",
    "\n",
    "    async def _observe(self, **kwargs) -> int:\n",
    "        await super()._observe()\n",
    "        # accept messages sent (from opponent) to self, disregard own messages from the last round\n",
    "        self.rc.news = [msg for msg in self.rc.news if msg.send_to == {self.name}]\n",
    "        return len(self.rc.news)\n",
    "\n",
    "    async def _act(self) -> Message:\n",
    "        logger.info(f\"{self._setting}: to do {self.rc.todo}({self.rc.todo.name})\")\n",
    "        todo = self.rc.todo  # An instance of SpeakAloud\n",
    "\n",
    "        memories = self.get_memories()\n",
    "        context = \"\\n\".join(f\"{msg.sent_from}: {msg.content}\" for msg in memories)\n",
    "        # print(context)\n",
    "\n",
    "        rsp = await todo.run(context=context, name=self.name, opponent_name=self.opponent_name)\n",
    "\n",
    "        msg = Message(\n",
    "            content=rsp,\n",
    "            role=self.profile,\n",
    "            cause_by=type(todo),\n",
    "            sent_from=self.name,\n",
    "            send_to=self.opponent_name,\n",
    "        )\n",
    "        self.rc.memory.add(msg)\n",
    "\n",
    "        return msg"
   ]
  },
  {
   "cell_type": "markdown",
   "id": "14258ef2",
   "metadata": {},
   "source": [
    "### 2.3 实例化"
   ]
  },
  {
   "cell_type": "code",
   "execution_count": 43,
   "id": "876e46e3",
   "metadata": {},
   "outputs": [],
   "source": [
    "async def debate(idea: str, investment: float = 3.0, n_round: int = 5):\n",
    "    \"\"\"Run a team of presidents and watch they quarrel. :)\"\"\"\n",
    "    Biden = Debater(name=\"Biden\", profile=\"Democrat\", opponent_name=\"Trump\")\n",
    "    Trump = Debater(name=\"Trump\", profile=\"Republican\", opponent_name=\"Biden\")\n",
    "    team = Team()\n",
    "    team.hire([Biden, Trump])\n",
    "    team.invest(investment)\n",
    "    # send debate topic to Biden and let him speak first\n",
    "    team.run_project(idea, send_to=\"Biden\")  \n",
    "    await team.run(n_round=n_round)"
   ]
  },
  {
   "cell_type": "code",
   "execution_count": 44,
   "id": "c2f519c0",
   "metadata": {},
   "outputs": [
    {
     "name": "stderr",
     "output_type": "stream",
     "text": [
      "2024-03-01 21:51:30.698 | INFO     | metagpt.config:get_default_llm_provider_enum:126 - API: LLMProviderEnum.ZHIPUAI\n",
      "2024-03-01 21:51:30.699 | INFO     | metagpt.config:get_default_llm_provider_enum:126 - API: LLMProviderEnum.ZHIPUAI\n",
      "2024-03-01 21:51:30.700 | INFO     | metagpt.team:invest:86 - Investment: $3.0.\n",
      "2024-03-01 21:51:30.701 | INFO     | __main__:_act:18 - Biden(Democrat): to do SpeakAloud(SpeakAloud)\n"
     ]
    },
    {
     "name": "stdout",
     "output_type": "stream",
     "text": [
      " \"Donald, your denial of climate change is akin to burying your head in the sand. The science is clear, and the American people are demanding action. Our planet is on fire, and we cannot afford to wait any longer. Your fossil fuel allies may be padding your pockets, but they're burning our future. I believe in science, and I'll fight for a greener, more prosperous America. Together, we can tackle this crisis and secure our children's inheritance. Let's move forward, not backward.\""
     ]
    },
    {
     "name": "stderr",
     "output_type": "stream",
     "text": [
      "2024-03-01 21:51:36.691 | INFO     | metagpt.utils.cost_manager:update_cost:48 - Total running cost: $0.005 | Max budget: $10.000 | Current cost: $0.000, prompt_tokens: 139, completion_tokens: 109\n",
      "2024-03-01 21:51:36.694 | INFO     | __main__:_act:18 - Trump(Republican): to do SpeakAloud(SpeakAloud)\n"
     ]
    },
    {
     "name": "stdout",
     "output_type": "stream",
     "text": [
      " \"Joe, you're living in a fantasy world. The left-wing media may have brainwashed you into believing climate change is the end of the world, but I'm here to tell you the truth: it's not. Our economy depends on fossil fuels, and I won't let your socialist agenda destroy jobs and bankrupt America. I've repealed countless regulations, cutting red tape and unleashing American energy. Under my presidency, we've achieved record low unemployment and a booming economy.\n",
      "\n",
      "Your claims about science are laughable. I've met with top scientists and they agree that climate change is not a crisis. We need to focus on real problems, like border security and jobs. Instead of wasting money on green initiatives, we should invest in American workers and infrastructure. I'm standing up for common sense, and I'll continue to fight for the forgotten men and women of this country who deserve a better future.\""
     ]
    },
    {
     "name": "stderr",
     "output_type": "stream",
     "text": [
      "2024-03-01 21:51:47.293 | INFO     | metagpt.utils.cost_manager:update_cost:48 - Total running cost: $0.005 | Max budget: $10.000 | Current cost: $0.000, prompt_tokens: 248, completion_tokens: 197\n",
      "2024-03-01 21:51:47.295 | INFO     | __main__:_act:18 - Biden(Democrat): to do SpeakAloud(SpeakAloud)\n"
     ]
    },
    {
     "name": "stdout",
     "output_type": "stream",
     "text": [
      " Biden: Donald, your dismissal of climate change is dangerous and irresponsible. The science is crystal clear, and our planet is paying the price for your denial. Our economy, our health, and our future are at stake. Yes, we need to protect American jobs, but investing in clean energy will create new opportunities and secure our prosperity. Your claim to have repealed regulations to boost the economy is a smoke screen: the fossil fuel industry received $20 billion in subsidies under your watch. I stand with the majority of Americans who believe in science and want a better future for our children. It's time to put our country before your personal interests and embrace a cleaner, more equitable future. Together, we can tackle climate change and build a stronger, more prosperous America."
     ]
    },
    {
     "name": "stderr",
     "output_type": "stream",
     "text": [
      "2024-03-01 21:51:55.975 | INFO     | metagpt.utils.cost_manager:update_cost:48 - Total running cost: $0.005 | Max budget: $10.000 | Current cost: $0.000, prompt_tokens: 485, completion_tokens: 158\n",
      "2024-03-01 21:51:55.978 | INFO     | __main__:_act:18 - Trump(Republican): to do SpeakAloud(SpeakAloud)\n"
     ]
    },
    {
     "name": "stdout",
     "output_type": "stream",
     "text": [
      " \"Joe, you're trying to dupe the American people with your doom-and-gloom climate predictions. I've spoken with real experts who disagree with your extremist views. Our economy thrives on fossil fuels, and I'm protecting American jobs by cutting red tape and promoting energy independence. Your claim about clean energy creating new opportunities is naive – wind and solar jobs can't compete with the prosperity generated by our robust energy sector. I've cut subsidies to fossil fuels, and instead invested in American workers and infrastructure.\n",
      "\n",
      "You talk about a cleaner, more equitable future, but your socialist agenda would bankrupt our country and destroy jobs. I'm standing up for common sense, and I won't let your fantasy climate policies dismantle our economy. We need to focus on real problems, like border security and jobs, not waste money on costly green initiatives. I'm fighting for the forgotten men and women who want a better future for their children – a future built on American energy and prosperity, not fantasy climate change policies.\""
     ]
    },
    {
     "name": "stderr",
     "output_type": "stream",
     "text": [
      "2024-03-01 21:52:07.459 | INFO     | metagpt.utils.cost_manager:update_cost:48 - Total running cost: $0.005 | Max budget: $10.000 | Current cost: $0.000, prompt_tokens: 650, completion_tokens: 216\n",
      "2024-03-01 21:52:07.462 | INFO     | __main__:_act:18 - Biden(Democrat): to do SpeakAloud(SpeakAloud)\n"
     ]
    },
    {
     "name": "stdout",
     "output_type": "stream",
     "text": [
      " Biden: Donald, your stubborn denial of climate change is putting our planet, economy, and future at risk. You claim to stand for American jobs, but your failed policies have left us dependent on fossil fuels, exacerbating the climate crisis. The science is clear – we must invest in clean energy to secure our prosperity and protect our children's inheritance.\n",
      "\n",
      "Your assertion that clean energy can't compete with fossil fuels is outdated and false. Renewable energy sources are rapidly evolving, and countries like China and Germany are already surpassing us in this sector. We can create new jobs, reduce greenhouse gas emissions, and lead the global transition to a cleaner economy.\n",
      "\n",
      "Your scaremongering about socialism and bankrupting our country is a cynical ploy to distract from your own record of enriching the wealthy and neglecting the needs of ordinary Americans. I'm fighting for justice and a better future for all, where we prioritize people over profits and protect our planet.\n",
      "\n",
      "The American people are tired of your empty promises and denial of the obvious. It's time to face the facts, take responsibility, and join us in building a greener, more equitable America. Together, we can tackle climate change and ensure a brighter future for all."
     ]
    },
    {
     "name": "stderr",
     "output_type": "stream",
     "text": [
      "2024-03-01 21:52:21.411 | INFO     | metagpt.utils.cost_manager:update_cost:48 - Total running cost: $0.005 | Max budget: $10.000 | Current cost: $0.000, prompt_tokens: 916, completion_tokens: 256\n"
     ]
    }
   ],
   "source": [
    "idea = \"The U.S. should commit more in climate change fighting\"\n",
    "await debate(idea)"
   ]
  }
 ],
 "metadata": {
  "kernelspec": {
   "display_name": "Python 3 (ipykernel)",
   "language": "python",
   "name": "python3"
  },
  "language_info": {
   "codemirror_mode": {
    "name": "ipython",
    "version": 3
   },
   "file_extension": ".py",
   "mimetype": "text/x-python",
   "name": "python",
   "nbconvert_exporter": "python",
   "pygments_lexer": "ipython3",
   "version": "3.10.5"
  }
 },
 "nbformat": 4,
 "nbformat_minor": 5
}
