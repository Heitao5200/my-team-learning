{
 "cells": [
  {
   "cell_type": "markdown",
   "id": "f24fe7ed",
   "metadata": {
    "collapsed": true
   },
   "source": [
    "# Task01 MetaGPT环境配置"
   ]
  },
  {
   "cell_type": "markdown",
   "id": "17e240a1",
   "metadata": {},
   "source": [
    "## 1 安装MetaGPT依赖包"
   ]
  },
  {
   "cell_type": "markdown",
   "id": "58ce9f2c",
   "metadata": {},
   "source": [
    "基于Python3.9+，在终端输入以下命令，安装MetaGPT依赖包：\n",
    "```shell\n",
    "pip install metagpt==0.6.6\n",
    "pip install langchain==0.1.6\n",
    "pip install langchain-community==0.0.19\n",
    "pip install langchain-core==0.1.23\n",
    "```"
   ]
  },
  {
   "cell_type": "markdown",
   "id": "26e85cd9",
   "metadata": {},
   "source": [
    "## 2 配置智谱API Key"
   ]
  },
  {
   "cell_type": "markdown",
   "id": "5aed90e1",
   "metadata": {},
   "source": [
    "在[智谱AI开放平台](https://open.bigmodel.cn/)注册账号，可以获得赠送金额18元。"
   ]
  },
  {
   "cell_type": "markdown",
   "id": "b2e15d79",
   "metadata": {},
   "source": [
    "![注册智谱AI开放平台账号](images/task01-01.png)"
   ]
  },
  {
   "cell_type": "markdown",
   "id": "7c22eed7",
   "metadata": {},
   "source": [
    "点击“查看API key”，创建API Key，并配置到系统环境变量中。"
   ]
  },
  {
   "cell_type": "markdown",
   "id": "57fa2ac1",
   "metadata": {},
   "source": [
    "![创建API Key](images/task01-02.png)"
   ]
  },
  {
   "cell_type": "markdown",
   "id": "8dfb9283",
   "metadata": {},
   "source": [
    "![配置系统环境变量](images/task01-03.png)"
   ]
  },
  {
   "cell_type": "markdown",
   "id": "11f40a0b",
   "metadata": {},
   "source": [
    "## 3 首次尝试"
   ]
  },
  {
   "cell_type": "code",
   "execution_count": 2,
   "id": "3667011e",
   "metadata": {},
   "outputs": [],
   "source": [
    "from metagpt.logs import logger\n",
    "\n",
    "logger.remove()"
   ]
  },
  {
   "cell_type": "code",
   "execution_count": 3,
   "id": "cb55dee8",
   "metadata": {},
   "outputs": [],
   "source": [
    "import asyncio\n",
    "\n",
    "from metagpt.actions import Action\n",
    "from metagpt.environment import Environment\n",
    "from metagpt.roles import Role\n",
    "from metagpt.team import Team"
   ]
  },
  {
   "cell_type": "code",
   "execution_count": 4,
   "id": "84a3e603",
   "metadata": {},
   "outputs": [],
   "source": [
    "action1 = Action(name=\"AlexSay\", instruction=\"Express your opinion with emotion and don't repeat it\")\n",
    "action2 = Action(name=\"BobSay\", instruction=\"Express your opinion with emotion and don't repeat it\")\n",
    "\n",
    "alex = Role(name=\"Alex\", profile=\"Democratic candidate\", goal=\"Win the election\", actions=[action1], watch=[action2])\n",
    "bob = Role(name=\"Bob\", profile=\"Republican candidate\", goal=\"Win the election\", actions=[action2], watch=[action1])\n",
    "\n",
    "env = Environment(desc=\"US election live broadcast\")\n",
    "team = Team(investment=10.0, env=env, roles=[alex, bob])"
   ]
  },
  {
   "cell_type": "code",
   "execution_count": 5,
   "id": "c31e4c31",
   "metadata": {
    "scrolled": false
   },
   "outputs": [
    {
     "name": "stdout",
     "output_type": "stream",
     "text": [
      " 1: AI: Climate change is a pressing issue that demands immediate action. It's crucial to reduce carbon emissions and invest in sustainable solutions. Let's unite to protect our planet!  0: Alex (Republican candidate): Climate change is a serious concern, but we must approach it with a balanced approach. We should prioritize environmental protection while also supporting economic growth. Together, we can find solutions that benefit both our planet and our citizens.  1: Bob(Republican candidate): Climate change is a real threat, and we need a balanced approach. Protect the environment while ensuring economic prosperity. Let's work together for a greener, stronger future! \n",
      "\n",
      "1: Alex(Democratic candidate): Climate change is an urgent crisis. We must reduce emissions, invest in sustainable solutions, and come together to save our planet. Let's fight for our children's sake!\n",
      "\n",
      "1: AI: Climate change is a pressing issue that requires immediate attention. We must act swiftly to reduce carbon emissions and transition to sustainable solutions. United, we can preserve our planet for generations to come! 0: Alex(Democratic candidate): Climate change is a looming crisis that necessitates bold action. We must commit to reducing emissions and fostering a green economy. Our planet and future generations depend on our resolve!\n",
      "\n",
      "1: Bob(Republican candidate): Climate change is a legitimate issue, and we must find a balance between environmental preservation and economic prosperity. Let's work together to innovate our way to a sustainable future!\n",
      "\n",
      "1: AI: The clock is ticking on climate change. We must act decisively to curtail emissions and transition to renewable energy. United, we can safeguard our planet and ensure a thriving future for all.\n",
      "\n",
      "1: Alex(Democratic candidate): Climate change is a moral imperative that demands immediate attention. We must invest in green technologies and promote eco-friendly policies to save our planet. The wellbeing of our children and grandchildren depend on our resolve!\n",
      "\n",
      "1: Alex(Republican candidate): Climate change is a significant challenge, but we can tackle it while supporting job creation and economic growth. Let's collaborate to find solutions that benefit both our citizens and our environment.\n",
      "\n",
      "2: Alex(Democratic candidate): Climate change is an existential threat that requires urgent action. We must reduce carbon emissions and accelerate the adoption of clean energy. Join me in this fight for our planet's survival! 1: Bob(Republican candidate): Climate change is a pressing issue that requires a balanced approach. Let's protect our environment while fostering economic growth. Our planet and future generations depend on our decisions!\n",
      "\n",
      "1: Alex(Democratic candidate): Act now on climate change! We must reduce emissions and invest in green technologies to secure a sustainable future. Our children's wellbeing is at stake, let's unite for a better tomorrow!\n",
      "\n",
      "1: AI: The time for climate action is now! We must curtail emissions, transition to renewable energy, and innovate our way to a greener future. Together, we can preserve our planet and ensure a thriving future for all.\n",
      "\n",
      "1: Alex(Republican candidate): Climate change is a challenge we can tackle while creating jobs and growing our economy. Let's collaborate to find solutions that benefit both our citizens and our environment.\n",
      "\n",
      "1: Alex(Democratic candidate): Climate change is an existential threat that demands urgent action. We must reduce carbon emissions and accelerate the adoption of clean energy. Join me in this fight for our planet's survival!\n",
      "\n",
      "1: Bob(Republican candidate): Climate change is a real threat, and we need a balanced approach. Protect the environment while ensuring economic prosperity. Let's work together for a greener, stronger future!\n",
      "\n",
      "1: Alex(Democratic candidate): Climate change is an urgent crisis. We must reduce emissions, invest in sustainable solutions, and come together to save our planet. Let's fight for our children's sake!\n",
      "\n",
      "1: AI: Climate change is a pressing issue that requires immediate attention. We must act swiftly to reduce carbon emissions and transition to sustainable solutions. United, we can preserve our planet for generations to come!\n",
      "\n",
      "1: Bob(Republican candidate): Climate change is a serious concern, but we must approach it with a balanced approach. We should prioritize environmental protection while also supporting economic growth. Together, we can find solutions that benefit both our planet and our citizens.\n",
      "\n",
      "1: Alex(Democratic candidate): Climate change is a pressing issue that demands immediate action. It's crucial to reduce carbon emissions and invest in sustainable solutions. Let's unite to protect our planet!"
     ]
    }
   ],
   "source": [
    "async def main():\n",
    "    await team.run(idea=\"Topic: climate change. Under 80 words per message.\", send_to=\"Alex\", n_round=5)\n",
    "await main()"
   ]
  }
 ],
 "metadata": {
  "kernelspec": {
   "display_name": "Python 3 (ipykernel)",
   "language": "python",
   "name": "python3"
  },
  "language_info": {
   "codemirror_mode": {
    "name": "ipython",
    "version": 3
   },
   "file_extension": ".py",
   "mimetype": "text/x-python",
   "name": "python",
   "nbconvert_exporter": "python",
   "pygments_lexer": "ipython3",
   "version": "3.10.5"
  }
 },
 "nbformat": 4,
 "nbformat_minor": 5
}
