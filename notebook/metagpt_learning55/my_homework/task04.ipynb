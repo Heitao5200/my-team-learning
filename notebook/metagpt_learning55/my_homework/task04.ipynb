{
 "cells": [
  {
   "cell_type": "markdown",
   "id": "9bd0f326",
   "metadata": {
    "collapsed": true
   },
   "source": [
    "# Task04 复现OSS-订阅智能体"
   ]
  },
  {
   "cell_type": "markdown",
   "id": "28a0c659",
   "metadata": {},
   "source": [
    "## 1 基本介绍"
   ]
  },
  {
   "cell_type": "markdown",
   "id": "d8fac157",
   "metadata": {},
   "source": [
    "- 订阅智能体：让Agent为我们关注某些想关注的信息，当有我们关注的事件发生时，Agent获取信息并进行处理，然后通过一些如邮件、微信、discord等通知渠道将处理后的信息发送给我们。\n",
    "- 需求分析：基于Agent的Role，配置一个资讯订阅员，主要包含两种工作：从外界信息源中搜集信息和对搜集得到的信息进行总结。"
   ]
  },
  {
   "cell_type": "markdown",
   "id": "3533f51d",
   "metadata": {},
   "source": [
    "## 2 实现方案"
   ]
  },
  {
   "cell_type": "markdown",
   "id": "c7a4566e",
   "metadata": {},
   "source": [
    "1. 实现一个OSSWatcher的Role：帮我们关注并分析热门的开源项目，当有相关信息时将信息推送给我们，这里需要确定让OSS从哪个网页获取信息。\n",
    "2. 触发Trigger：指这个OSSWatcher角色运行的触发条件，可以是定时触发或者是某个网站有更新时触发。\n",
    "3. 结果Callback：处理OSSWatcher角色运行生成的信息，将数据发送到微信或者discord。"
   ]
  },
  {
   "cell_type": "markdown",
   "id": "0c6759fa",
   "metadata": {},
   "source": [
    "## 3 实现OSSWatcher的Role"
   ]
  },
  {
   "cell_type": "markdown",
   "id": "ec74068e",
   "metadata": {},
   "source": [
    "- 分析思路：从GitHub Trending网页爬取热门开源项目信息，再从编程语言优势、项目类型和用途、社区活跃度、新兴技术和工具等方面分析热门开源项目。"
   ]
  },
  {
   "cell_type": "code",
   "execution_count": 2,
   "id": "84bf3e9e",
   "metadata": {},
   "outputs": [],
   "source": [
    "import asyncio\n",
    "import os\n",
    "from typing import Any\n",
    "from typing import Optional\n",
    "\n",
    "import aiohttp\n",
    "import fire\n",
    "from aiocron import crontab\n",
    "from bs4 import BeautifulSoup\n",
    "from metagpt.actions.action import Action\n",
    "from metagpt.environment import Environment\n",
    "from metagpt.logs import logger\n",
    "from metagpt.roles import Role\n",
    "from metagpt.schema import Message\n",
    "from metagpt.subscription import SubscriptionRunner\n",
    "from pytz import BaseTzInfo, timezone"
   ]
  },
  {
   "cell_type": "markdown",
   "id": "67fcd65a",
   "metadata": {},
   "source": [
    "从`https://github.com/trending`中爬取项目链接、项目描述、编写语言、star数、fork数、今日star数。"
   ]
  },
  {
   "cell_type": "code",
   "execution_count": 3,
   "id": "9c207cb0",
   "metadata": {},
   "outputs": [],
   "source": [
    "class CrawlOSSTrending(Action):\n",
    "\n",
    "    async def run(self, url: str = \"https://github.com/trending\"):\n",
    "        async with aiohttp.ClientSession() as client:\n",
    "            async with client.get(url) as response:\n",
    "                response.raise_for_status()\n",
    "                html = await response.text()\n",
    " \n",
    "        soup = BeautifulSoup(html, 'html.parser')\n",
    "    \n",
    "        repositories = []\n",
    "    \n",
    "        for article in soup.select('article.Box-row'):\n",
    "            repo_info = {}\n",
    "            \n",
    "            repo_info['name'] = article.select_one('h2 a').text.strip().replace(\"\\n\", \"\").replace(\" \", \"\")\n",
    "            repo_info['url'] = \"https://github.com\" + article.select_one('h2 a')['href'].strip()\n",
    "    \n",
    "            # Description\n",
    "            description_element = article.select_one('p')\n",
    "            repo_info['description'] = description_element.text.strip() if description_element else None\n",
    "    \n",
    "            # Language\n",
    "            language_element = article.select_one('span[itemprop=\"programmingLanguage\"]')\n",
    "            repo_info['language'] = language_element.text.strip() if language_element else None\n",
    "    \n",
    "            # Stars and Forks\n",
    "            stars_element = article.select('a.Link--muted')[0]\n",
    "            forks_element = article.select('a.Link--muted')[1]\n",
    "            repo_info['stars'] = stars_element.text.strip()\n",
    "            repo_info['forks'] = forks_element.text.strip()\n",
    "    \n",
    "            # Today's Stars\n",
    "            today_stars_element = article.select_one('span.d-inline-block.float-sm-right')\n",
    "            repo_info['today_stars'] = today_stars_element.text.strip() if today_stars_element else None\n",
    "    \n",
    "            repositories.append(repo_info)\n",
    "    \n",
    "        return repositories"
   ]
  },
  {
   "cell_type": "markdown",
   "id": "80740904",
   "metadata": {},
   "source": [
    "从以下几个角度分析，并按照一定的格式输出：\n",
    "- 今天榜单的整体趋势，例如哪几个编程语言比较热门、最热门的项目是哪些、主要集中在哪些领域。\n",
    "- 榜单的仓库分类。\n",
    "- 推荐进一步关注哪些仓库，推荐原因是什么。"
   ]
  },
  {
   "cell_type": "code",
   "execution_count": 4,
   "id": "07f0fe46",
   "metadata": {},
   "outputs": [],
   "source": [
    "TRENDING_ANALYSIS_PROMPT = \"\"\"# Requirements\n",
    "You are a GitHub Trending Analyst, aiming to provide users with insightful and personalized recommendations based on the latest\n",
    "GitHub Trends. Based on the context, fill in the following missing information, generate engaging and informative titles, \n",
    "ensuring users discover repositories aligned with their interests.\n",
    "\n",
    "# The title about Today's GitHub Trending\n",
    "## Today's Trends: Uncover the Hottest GitHub Projects Today! Explore the trending programming languages and discover key domains capturing developers' attention. From ** to **, witness the top projects like never before.\n",
    "## The Trends Categories: Dive into Today's GitHub Trending Domains! Explore featured projects in domains such as ** and **. Get a quick overview of each project, including programming languages, stars, and more.\n",
    "## Highlights of the List: Spotlight noteworthy projects on GitHub Trending, including new tools, innovative projects, and rapidly gaining popularity, focusing on delivering distinctive and attention-grabbing content for users.\n",
    "---\n",
    "# Format Example\n",
    "\n",
    "```\n",
    "# [Title]\n",
    "\n",
    "## Today's Trends\n",
    "Today, ** and ** continue to dominate as the most popular programming languages. Key areas of interest include **, ** and **.\n",
    "The top popular projects are Project1 and Project2.\n",
    "\n",
    "## The Trends Categories\n",
    "1. Generative AI\n",
    "    - [Project1](https://github/xx/project1): [detail of the project, such as star total and today, language, ...]\n",
    "    - [Project2](https://github/xx/project2): ...\n",
    "...\n",
    "\n",
    "## Highlights of the List\n",
    "1. [Project1](https://github/xx/project1): [provide specific reasons why this project is recommended].\n",
    "...\n",
    "```\n",
    "\n",
    "---\n",
    "# Github Trending\n",
    "{trending}\n",
    "\"\"\"\n",
    "\n",
    "class AnalysisOSSTrending(Action):\n",
    "\n",
    "    async def run(\n",
    "        self,\n",
    "        trending: Any\n",
    "    ):\n",
    "        return await self._aask(TRENDING_ANALYSIS_PROMPT.format(trending=trending))"
   ]
  },
  {
   "cell_type": "code",
   "execution_count": 14,
   "id": "2dcb8043",
   "metadata": {},
   "outputs": [],
   "source": [
    "class OssWatcher(Role):\n",
    "    def __init__(\n",
    "            self,\n",
    "            name=\"Codey\",\n",
    "            profile=\"OssWatcher\",\n",
    "            goal=\"Generate an insightful GitHub Trending analysis report.\",\n",
    "            constraints=\"Only analyze based on the provided GitHub Trending data.\",\n",
    "    ):\n",
    "        super().__init__(name=name, profile=profile, goal=goal, constraints=constraints)\n",
    "        self._init_actions([CrawlOSSTrending, AnalysisOSSTrending])\n",
    "        self._set_react_mode(react_mode=\"by_order\")\n",
    "\n",
    "    async def _act(self) -> Message:\n",
    "        logger.info(f\"{self._setting}: ready to {self.rc.todo}\")\n",
    "        # By choosing the Action by order under the hood\n",
    "        # todo will be first SimpleWriteCode() then SimpleRunCode()\n",
    "        todo = self.rc.todo\n",
    "\n",
    "        msg = self.get_memories(k=1)[0]  # find the most k recent messages\n",
    "        result = await todo.run(msg.content)\n",
    "\n",
    "        msg = Message(content=str(result), role=self.profile, cause_by=type(todo))\n",
    "        self.rc.memory.add(msg)\n",
    "        return msg"
   ]
  },
  {
   "cell_type": "markdown",
   "id": "3a33d52e",
   "metadata": {},
   "source": [
    "## 4 实现Trigger"
   ]
  },
  {
   "cell_type": "markdown",
   "id": "c3a88edf",
   "metadata": {},
   "source": [
    "实现触发器`Trigger`，按照设定的时间，触发执行动作。"
   ]
  },
  {
   "cell_type": "code",
   "execution_count": 6,
   "id": "654f7fc3",
   "metadata": {},
   "outputs": [],
   "source": [
    "class GithubTrendingCronTrigger:\n",
    "    def __init__(\n",
    "        self,\n",
    "        spec: str,\n",
    "        tz: Optional[BaseTzInfo] = None,\n",
    "        url: str = \"https://github.com/trending\",\n",
    "    ) -> None:\n",
    "        self.crontab = crontab(spec, tz=tz)\n",
    "        self.url = url\n",
    "\n",
    "    def __aiter__(self):\n",
    "        return self\n",
    "\n",
    "    async def __anext__(self):\n",
    "        await self.crontab.next()\n",
    "        return Message(content=self.url)"
   ]
  },
  {
   "cell_type": "markdown",
   "id": "ecc9fb73",
   "metadata": {},
   "source": [
    "## 5 实现Callback"
   ]
  },
  {
   "cell_type": "markdown",
   "id": "9d4985cf",
   "metadata": {},
   "source": [
    "- Callback：定义如何处理智能体生成的信息。\n",
    "- 实现目标：基于[WxPusher微信推送服务](https://wxpusher.zjiecode.com/docs/#/?id=%e8%8e%b7%e5%8f%96apptoken)将智能体产生的数据发送到微信。"
   ]
  },
  {
   "cell_type": "code",
   "execution_count": 10,
   "id": "e7e73b0f",
   "metadata": {},
   "outputs": [],
   "source": [
    "class WxPusherClient:\n",
    "    def __init__(self, token: Optional[str] = None, base_url: str = \"http://wxpusher.zjiecode.com\"):\n",
    "        self.base_url = base_url\n",
    "        self.token = token or os.environ[\"WXPUSHER_TOKEN\"]\n",
    "\n",
    "    async def send_message(\n",
    "        self,\n",
    "        content,\n",
    "        summary: Optional[str] = None,\n",
    "        content_type: int = 1,\n",
    "        topic_ids: Optional[list[int]] = None,\n",
    "        uids: Optional[list[int]] = None,\n",
    "        verify: bool = False,\n",
    "        url: Optional[str] = None,\n",
    "    ):\n",
    "        payload = {\n",
    "            \"appToken\": self.token,\n",
    "            \"content\": content,\n",
    "            \"summary\": summary,\n",
    "            \"contentType\": content_type,\n",
    "            \"topicIds\": topic_ids or [],\n",
    "            \"uids\": uids or os.environ[\"WXPUSHER_UIDS\"].split(\",\"),\n",
    "            \"verifyPay\": verify,\n",
    "            \"url\": url,\n",
    "        }\n",
    "        url = f\"{self.base_url}/api/send/message\"\n",
    "        return await self._request(\"POST\", url, json=payload)\n",
    "\n",
    "    async def _request(self, method, url, **kwargs):\n",
    "        async with aiohttp.ClientSession() as session:\n",
    "            async with session.request(method, url, **kwargs) as response:\n",
    "                response.raise_for_status()\n",
    "                return await response.json()"
   ]
  },
  {
   "cell_type": "code",
   "execution_count": 11,
   "id": "08e2f00a",
   "metadata": {},
   "outputs": [],
   "source": [
    "async def wxpusher_callback(msg: Message):\n",
    "    client = WxPusherClient()\n",
    "    await client.send_message(msg.content, content_type=3)"
   ]
  },
  {
   "cell_type": "markdown",
   "id": "282d7d76",
   "metadata": {},
   "source": [
    "## 6 运行代码"
   ]
  },
  {
   "cell_type": "markdown",
   "id": "471014b2",
   "metadata": {},
   "source": [
    "配置系统环境变量`WXPUSHER_TOKEN`、`WXPUSHER_UIDS`。"
   ]
  },
  {
   "cell_type": "code",
   "execution_count": 16,
   "id": "c5f3ab68",
   "metadata": {},
   "outputs": [],
   "source": [
    "async def main(spec: str = \"42 17 * * *\", wxpusher: bool = True):\n",
    "    callbacks = []\n",
    "    if wxpusher:\n",
    "        callbacks.append(wxpusher_callback)\n",
    "\n",
    "    if not callbacks:\n",
    "        async def _print(msg: Message):\n",
    "            print(msg.content)\n",
    "\n",
    "        callbacks.append(_print)\n",
    "\n",
    "    async def callback(msg):\n",
    "        await asyncio.gather(*(call(msg) for call in callbacks))\n",
    "\n",
    "    runner = SubscriptionRunner()\n",
    "    await runner.subscribe(OssWatcher(), GithubTrendingCronTrigger(spec), callback)\n",
    "    await runner.run()"
   ]
  },
  {
   "cell_type": "code",
   "execution_count": 17,
   "id": "d5fb7cae",
   "metadata": {},
   "outputs": [
    {
     "name": "stderr",
     "output_type": "stream",
     "text": [
      "2024-03-01 17:41:13.126 | INFO     | metagpt.config:get_default_llm_provider_enum:126 - API: LLMProviderEnum.ZHIPUAI\n",
      "2024-03-01 17:42:00.001 | INFO     | __main__:_act:14 - Codey(OssWatcher): ready to CrawlOSSTrending\n",
      "E:\\LearningDisk\\Learning_Projects\\MyPythonProjects\\my-team-learning\\venv\\lib\\site-packages\\bs4\\builder\\__init__.py:314: RuntimeWarning: coroutine 'main' was never awaited\n",
      "  for attr in list(attrs.keys()):\n",
      "RuntimeWarning: Enable tracemalloc to get the object allocation traceback\n",
      "2024-03-01 17:42:00.911 | INFO     | __main__:_act:14 - Codey(OssWatcher): ready to AnalysisOSSTrending\n"
     ]
    },
    {
     "name": "stdout",
     "output_type": "stream",
     "text": [
      " # Today's GitHub Trending\n",
      "\n",
      "## Today's Trends\n",
      "Today, TypeScript and C++ continue to dominate as the most popular programming languages. Key areas of interest include generative AI, Nintendo Switch emulation, and distributed financial transactions. The top popular projects are web-check and yuzu.\n",
      "\n",
      "## The Trends Categories\n",
      "1. Generative AI\n",
      "    - [Project1](https://github.com/Lissy93/web-check): An all-in-one OSINT tool for analyzing any website. With 12,034 stars and 889 forks, it's a must-watch project.\n",
      "    - [Project2](https://github.com/yuzu-emu/yuzu): A Nintendo Switch emulator with 37,771 stars and 3,788 forks.\n",
      "2. Distributed Financial Transactions\n",
      "    - [Project3](https://github.com/dockur/windows): Windows in a Docker container, gaining 3,055 stars and 178 forks today.\n",
      "\n",
      "## Highlights of the List\n",
      "1. [Project1](https://github.com/Lissy93/web-check): This project is recommended for its comprehensive OSINT capabilities and growing popularity.\n",
      "2. [Project2](https://github.com/yuzu-emu/yuzu): As a Nintendo Switch emulator, it attracts gamers and developers interested in console emulation.\n",
      "3. [Project3](https://github.com/dockur/windows): Dockerized Windows offers a convenient way to develop and deploy applications on Windows, gaining attention from developers.\n",
      "\n",
      "Keep an eye on these projects and others in the trending lists to stay up-to-date with the latest GitHub trends. Stay tuned for more recommendations and insights into the vibrant GitHub community."
     ]
    },
    {
     "name": "stderr",
     "output_type": "stream",
     "text": [
      "2024-03-01 17:42:26.476 | INFO     | metagpt.utils.cost_manager:update_cost:48 - Total running cost: $0.000 | Max budget: $10.000 | Current cost: $0.000, prompt_tokens: 2872, completion_tokens: 411\n"
     ]
    },
    {
     "ename": "CancelledError",
     "evalue": "",
     "output_type": "error",
     "traceback": [
      "\u001b[1;31m---------------------------------------------------------------------------\u001b[0m",
      "\u001b[1;31mCancelledError\u001b[0m                            Traceback (most recent call last)",
      "Cell \u001b[1;32mIn[17], line 1\u001b[0m\n\u001b[1;32m----> 1\u001b[0m \u001b[38;5;28;01mawait\u001b[39;00m main()\n",
      "Cell \u001b[1;32mIn[16], line 17\u001b[0m, in \u001b[0;36mmain\u001b[1;34m(spec, wxpusher)\u001b[0m\n\u001b[0;32m     15\u001b[0m runner \u001b[38;5;241m=\u001b[39m SubscriptionRunner()\n\u001b[0;32m     16\u001b[0m \u001b[38;5;28;01mawait\u001b[39;00m runner\u001b[38;5;241m.\u001b[39msubscribe(OssWatcher(), GithubTrendingCronTrigger(spec), callback)\n\u001b[1;32m---> 17\u001b[0m \u001b[38;5;28;01mawait\u001b[39;00m runner\u001b[38;5;241m.\u001b[39mrun()\n",
      "File \u001b[1;32mE:\\LearningDisk\\Learning_Projects\\MyPythonProjects\\my-team-learning\\venv\\lib\\site-packages\\metagpt\\subscription.py:100\u001b[0m, in \u001b[0;36mSubscriptionRunner.run\u001b[1;34m(self, raise_exception)\u001b[0m\n\u001b[0;32m     98\u001b[0m         \u001b[38;5;28;01mbreak\u001b[39;00m\n\u001b[0;32m     99\u001b[0m \u001b[38;5;28;01melse\u001b[39;00m:\n\u001b[1;32m--> 100\u001b[0m     \u001b[38;5;28;01mawait\u001b[39;00m asyncio\u001b[38;5;241m.\u001b[39msleep(\u001b[38;5;241m1\u001b[39m)\n",
      "File \u001b[1;32mD:\\Python\\Python310\\lib\\asyncio\\tasks.py:605\u001b[0m, in \u001b[0;36msleep\u001b[1;34m(delay, result)\u001b[0m\n\u001b[0;32m    601\u001b[0m h \u001b[38;5;241m=\u001b[39m loop\u001b[38;5;241m.\u001b[39mcall_later(delay,\n\u001b[0;32m    602\u001b[0m                     futures\u001b[38;5;241m.\u001b[39m_set_result_unless_cancelled,\n\u001b[0;32m    603\u001b[0m                     future, result)\n\u001b[0;32m    604\u001b[0m \u001b[38;5;28;01mtry\u001b[39;00m:\n\u001b[1;32m--> 605\u001b[0m     \u001b[38;5;28;01mreturn\u001b[39;00m \u001b[38;5;28;01mawait\u001b[39;00m future\n\u001b[0;32m    606\u001b[0m \u001b[38;5;28;01mfinally\u001b[39;00m:\n\u001b[0;32m    607\u001b[0m     h\u001b[38;5;241m.\u001b[39mcancel()\n",
      "\u001b[1;31mCancelledError\u001b[0m: "
     ]
    }
   ],
   "source": [
    "await main()"
   ]
  },
  {
   "cell_type": "markdown",
   "id": "d306b8df",
   "metadata": {},
   "source": [
    "设置定时时间，当时间触发之后，可以在推送平台上收到消息。"
   ]
  },
  {
   "cell_type": "markdown",
   "id": "a9173dcf",
   "metadata": {},
   "source": [
    "![WxPusher收到消息](images/task04-01.png)"
   ]
  },
  {
   "cell_type": "markdown",
   "id": "26373b09",
   "metadata": {},
   "source": [
    "消息详情：\n",
    "\n",
    "![消息详情](images/task04-02.png)"
   ]
  }
 ],
 "metadata": {
  "kernelspec": {
   "display_name": "Python 3 (ipykernel)",
   "language": "python",
   "name": "python3"
  },
  "language_info": {
   "codemirror_mode": {
    "name": "ipython",
    "version": 3
   },
   "file_extension": ".py",
   "mimetype": "text/x-python",
   "name": "python",
   "nbconvert_exporter": "python",
   "pygments_lexer": "ipython3",
   "version": "3.10.5"
  }
 },
 "nbformat": 4,
 "nbformat_minor": 5
}
